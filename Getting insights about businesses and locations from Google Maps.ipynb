{
 "cells": [
  {
   "cell_type": "markdown",
   "metadata": {},
   "source": [
    "# Getting insights about businesses and locations from Google Maps"
   ]
  },
  {
   "cell_type": "markdown",
   "metadata": {},
   "source": [
    "![image](https://i.ibb.co/Pzrs73R/cover.png)"
   ]
  },
  {
   "cell_type": "markdown",
   "metadata": {},
   "source": [
    "Google Maps is full of useful data about any type of business or location you're interested in. In this step by step article, I'm going to use **Python** and **Selenium** to extract data from it about a business (or location, we'll look into 3 main examples), and then do the same to the similar or competing businesses in close proximity to it, all in a quick and automated way.\n",
    "\n",
    "The output of this operation is a **Dataframe** containing useful data (names, business types, star ratings, contact info, coordinates, popular hours, etc.) that we can use to derive many insights about the business/location and its surrounding environments.\n",
    "\n",
    "This is going to be useful if you want to get an idea about where your competitors stand, but also if you want a quick way to generate a listing of a certain type of business in any given city. It also works for historical landmarks, parks and all sorts of attractions, not just businesses as we will see later in the 3rd and last example.\n",
    "\n",
    "You can follow along with this article by downloading the Jupyter Notebook for it in my [**GitHub repository here**]() (where the code is explained in much more detail).\n",
    "\n",
    "*ps: I'm not affiliated to any business. Examples in this article are taken at random for illustrative and educational purposes only.*"
   ]
  },
  {
   "cell_type": "markdown",
   "metadata": {},
   "source": [
    "---"
   ]
  },
  {
   "cell_type": "markdown",
   "metadata": {},
   "source": [
    "# The packages and the setup :"
   ]
  },
  {
   "cell_type": "markdown",
   "metadata": {},
   "source": [
    "![image](https://i.ibb.co/tZC4cQc/packages.png)"
   ]
  },
  {
   "cell_type": "markdown",
   "metadata": {},
   "source": [
    "Illustration by Minty - rawpixel.com"
   ]
  },
  {
   "cell_type": "markdown",
   "metadata": {},
   "source": [
    "We’ll need the [**Selenium**](https://pypi.org/project/selenium/) python package to perform the data scraping. If you don’t have it yet, you can install it using pip: `pip install selenium` or `conda install selenium` if you're using an Anaconda distribution.\n",
    "\n",
    "We’ll also need a **WebDriver** in order to interact with the browser (we'll use Chrome here), so you have to [**go here and download it**](https://chromedriver.chromium.org/downloads) to your machine (make sure it’s compatible with your current Chrome version) :"
   ]
  },
  {
   "cell_type": "code",
   "execution_count": 2,
   "metadata": {},
   "outputs": [],
   "source": [
    "from selenium import webdriver"
   ]
  },
  {
   "cell_type": "markdown",
   "metadata": {},
   "source": [
    "We'll also need a couple of useful classes from Selenium. We'll import them here :"
   ]
  },
  {
   "cell_type": "code",
   "execution_count": 3,
   "metadata": {},
   "outputs": [],
   "source": [
    "from selenium.webdriver.common.by import By\n",
    "from selenium.webdriver.support.ui import WebDriverWait\n",
    "from selenium.webdriver.support import expected_conditions as EC\n",
    "from selenium.webdriver.common.keys import Keys\n",
    "from selenium.common.exceptions import NoSuchElementException, TimeoutException, ElementNotInteractableException, ElementClickInterceptedException"
   ]
  },
  {
   "cell_type": "markdown",
   "metadata": {},
   "source": [
    "Now let’s get [**tqdm**](https://github.com/tqdm/tqdm), an essential progress bar python package. It is very useful to estimate how much time the web scraping part of your code will take (i’m using tqdm_notebook because I’m working in a Jupyter Notebook. In IDEs you should do `from tqdm import tqdm` and then use `tqdm` instead of `tqdmn`) :"
   ]
  },
  {
   "cell_type": "code",
   "execution_count": 4,
   "metadata": {},
   "outputs": [],
   "source": [
    "from tqdm import tqdm_notebook as tqdmn"
   ]
  },
  {
   "cell_type": "markdown",
   "metadata": {},
   "source": [
    "In addition to that, we’ll need [**Pandas**](https://pandas.pydata.org/) to read and manipulate the dataset, and [**Numpy**](https://numpy.org/) to deal with null values :"
   ]
  },
  {
   "cell_type": "code",
   "execution_count": 5,
   "metadata": {},
   "outputs": [],
   "source": [
    "import pandas as pd\n",
    "import numpy as np"
   ]
  },
  {
   "cell_type": "markdown",
   "metadata": {},
   "source": [
    "Also, let's import [**Matplotlib**](https://matplotlib.org/) and [**Seaborn**](https://seaborn.pydata.org/) to do data visualisations :"
   ]
  },
  {
   "cell_type": "code",
   "execution_count": 6,
   "metadata": {},
   "outputs": [],
   "source": [
    "import matplotlib.pyplot as plt\n",
    "import seaborn as sns"
   ]
  },
  {
   "cell_type": "markdown",
   "metadata": {},
   "source": [
    "In order to visualise our businesses/locations in a map, we'll need [**Folium**](https://pypi.org/project/folium). If you don't have Folium, install it using `pip install folium` or `conda install -c conda-forge folium` :"
   ]
  },
  {
   "cell_type": "code",
   "execution_count": 7,
   "metadata": {},
   "outputs": [],
   "source": [
    "import folium"
   ]
  },
  {
   "cell_type": "markdown",
   "metadata": {},
   "source": [
    "Finally, we'll need the built-in python modules [**time**](https://docs.python.org/3/library/time.html) and [**re**]() (the first to stop the code for a certain time while elements load, and the second to extract data from raw text in patterns using [**RegEx or Regular Expressions**](https://regexr.com/)): "
   ]
  },
  {
   "cell_type": "code",
   "execution_count": 8,
   "metadata": {},
   "outputs": [],
   "source": [
    "import time, re"
   ]
  },
  {
   "cell_type": "markdown",
   "metadata": {},
   "source": [
    "This is optional, just to add some CSS styling to our dataframes :"
   ]
  },
  {
   "cell_type": "code",
   "execution_count": 34,
   "metadata": {},
   "outputs": [
    {
     "data": {
      "text/html": [
       "<style>.dataframe th,td:first-child{background: rgb(63,87,124);background: linear-gradient(180deg, rgba(63,87,124,1) 0%, rgba(101,124,161,1) 100%, rgba(0,212,255,1) 100%);;\n",
       "padding: 10px;font-family: monospace;font-size: 110%;color: white;border:1px dashed white;text-align:left !important;\n",
       "-moz-border-radius: 3x;-webkit-border-radius: 3px;}.dataframe thead{border:none; !important;}</style>\n"
      ],
      "text/plain": [
       "<IPython.core.display.HTML object>"
      ]
     },
     "metadata": {},
     "output_type": "display_data"
    }
   ],
   "source": [
    "%%HTML\n",
    "<style>.dataframe th,td:first-child{background: rgb(63,87,124);background: linear-gradient(180deg, rgba(63,87,124,1) 0%, rgba(101,124,161,1) 100%, rgba(0,212,255,1) 100%);;\n",
    "padding: 10px;font-family: monospace;font-size: 110%;color: white;border:1px dashed white;text-align:left !important;\n",
    "-moz-border-radius: 3x;-webkit-border-radius: 3px;}.dataframe thead{border:none; !important;}</style>"
   ]
  },
  {
   "cell_type": "markdown",
   "metadata": {},
   "source": [
    "---"
   ]
  },
  {
   "cell_type": "markdown",
   "metadata": {},
   "source": [
    "# Print shops in Brisbane, Australia :"
   ]
  },
  {
   "cell_type": "markdown",
   "metadata": {},
   "source": [
    "![Brisbane](https://i.ibb.co/CBHYXRg/brisbane.png)"
   ]
  },
  {
   "cell_type": "markdown",
   "metadata": {},
   "source": [
    "Picture by Brad Scruse - Flickr.com (CC)"
   ]
  },
  {
   "cell_type": "markdown",
   "metadata": {},
   "source": [
    "Ryan is a fresh graduate with a diploma in Print Industry Management and he's looking for a job in Brisbane, Australia. He just sent his resume to the print shop **Kwik Kopy Brisbane** (because it happened to be the closest to his home). Where else can he find a suitable job in the city? Let's help Ryan out.\n",
    "\n",
    "First thing we do is go to Google Maps and search for the name of that business, or we can add the name after `www.google.com/maps/search/` in the address bar of our browser. Then, if we click on the business category, here `Print shop` (see image bellow), we get a listing of different print related businesses. The longer we navigate, the farther we get from the location of our initial Print shop :"
   ]
  },
  {
   "cell_type": "markdown",
   "metadata": {},
   "source": [
    "![image](https://i.ibb.co/zfv2bJk/competition.png)"
   ]
  },
  {
   "cell_type": "markdown",
   "metadata": {},
   "source": [
    "Before writing the code that will do the web scraping for us, let's lay out all the steps we'll go through :\n",
    "\n",
    "**1. Rounding the competition** : <br>\n",
    "* A : Taking the name of our business and adding it after `www.google.com/maps/search/` and then visiting that URL\n",
    "* B : Clicking on the business category\n",
    "* C : Capturing the names and addresses of the competitors, then clicking the next button `>`. We do this repeatedly until we're satisfied with how many competitors we got. The output of this step is a **list** of competitors (names and addresses), let's names it `competition` (names alone are not enough to uniquely identify a business, that's why we also capture addresses)\n",
    "\n",
    "**2. Extracting the data** : <br>\n",
    "* D : Taking the first element of `competition` and adding it after `www.google.com/maps/search/` and then visiting that URL\n",
    "* E : extracting the name, business category, average rating, total number of reviews, address, phone number and website, then loop again to step D with another element from `competition` until the end."
   ]
  },
  {
   "cell_type": "markdown",
   "metadata": {},
   "source": [
    "Here's the code to do so :"
   ]
  },
  {
   "cell_type": "code",
   "execution_count": 337,
   "metadata": {},
   "outputs": [
    {
     "data": {
      "application/vnd.jupyter.widget-view+json": {
       "model_id": "e7972833d8774b0aaa72abbdd941f90b",
       "version_major": 2,
       "version_minor": 0
      },
      "text/plain": [
       "HBox(children=(IntProgress(value=0, description='1. Rounding the competition', max=10, style=ProgressStyle(des…"
      ]
     },
     "metadata": {},
     "output_type": "display_data"
    },
    {
     "data": {
      "application/vnd.jupyter.widget-view+json": {
       "model_id": "",
       "version_major": 2,
       "version_minor": 0
      },
      "text/plain": [
       "HBox(children=(IntProgress(value=0, description='Extracting the data', max=113, style=ProgressStyle(descriptio…"
      ]
     },
     "metadata": {},
     "output_type": "display_data"
    }
   ],
   "source": [
    "# Make sure to supply the path to where you put the chromedriver.exe file. Use \\\\ instead of \\ :\n",
    "driver = webdriver.Chrome(\"C:\\\\chromedriver.exe\")\n",
    "\n",
    "# This is the list where we'll capture the competitors' names and addresses\n",
    "competition = []\n",
    "\n",
    "# [STEP A] : The name and location of the initial print shop that will go into the search URL\n",
    "starting_business = 'Kwik Kopy Brisbane'\n",
    "city = 'Brisbane'\n",
    "url = 'https://www.google.com/maps/search/' + starting_business + ' ' + city\n",
    "\n",
    "# [STEP A] : Opening the search URL. You'll notice a chrome window opening :\n",
    "driver.get(url)\n",
    "\n",
    "# Waiting for the name of the business to load and be visible :\n",
    "WebDriverWait(driver,25).until(EC.visibility_of_element_located((By.CLASS_NAME, \"section-hero-header-title-title\")))\n",
    "\n",
    "# [STEP B] : Clicking on the business category :\n",
    "driver.find_element_by_xpath('//*[@id=\"pane\"]/div/div[1]/div/div/div[2]/div[1]/div[2]/div/div[2]/span[1]/span[1]/button').click()\n",
    "\n",
    "# Waiting for the results to appear :\n",
    "WebDriverWait(driver,25).until(EC.visibility_of_element_located((By.CLASS_NAME, \"section-result-title\")))\n",
    "        \n",
    "# [STEP C] : We repeat the code below 5 times (if we arrive at the end of the navgation list the loop breaks on its own) :\n",
    "for i in tqdmn(range(5), leave=False, desc='1. Rounding the competition' ) :\n",
    "    \n",
    "    # Waiting for the results to appear :\n",
    "    WebDriverWait(driver,25).until(EC.visibility_of_element_located((By.CLASS_NAME, \"section-result-title\")))\n",
    "\n",
    "    # Capturing the names and addresses of the competitors and adding them to our list 'competition' :\n",
    "    result_names = [i.text for i in driver.find_elements_by_css_selector('h3[class=section-result-title]')]\n",
    "    result_addresses = [i.text for i in driver.find_elements_by_css_selector('span[class=section-result-location]')] \n",
    "    \n",
    "    for name, address in zip(result_names, result_addresses) :\n",
    "        competition.append(name + ' ' + address)\n",
    "        \n",
    "    # Waiting for the 'Next' button to be visible and then click it (if it's not clickable, we break the for loop) :\n",
    "    try :\n",
    "        WebDriverWait(driver,25).until(EC.visibility_of_element_located((By.XPATH, \"//*[@id='n7lv7yjyC35__section-pagination-button-next']\"))).click()\n",
    "    except ElementClickInterceptedException :\n",
    "        break\n",
    "        \n",
    "    # Waiting 5 seconds before looping (otherwise we get the error ElementClickInterceptedException). If you get the\n",
    "    #exception, make it wait for a little longer than 5 seconds :\n",
    "    time.sleep(5)\n",
    "\n",
    "# We want to remove any '/' character in the names and addresses in the competition list (because they'll break URLs) :\n",
    "competition = [i.replace('/', ' ') for i in competition]\n",
    "\n",
    "# These are the empty lists we will populate with the extracted data in the 2nd phase :\n",
    "full_name = []\n",
    "rating = []\n",
    "total_ratings = []\n",
    "business_cat = []\n",
    "address = []\n",
    "phone = []\n",
    "website = []\n",
    "lat = []\n",
    "long = []\n",
    "    \n",
    "# Here's the big loop iterating over the competiton list :\n",
    "for business in tqdmn(competition, leave=False, desc='2. Extracting the data') :\n",
    "    \n",
    "    # [STEP D] :\n",
    "    url = 'https://www.google.com/maps/search/' + business\n",
    "    driver.get(url)\n",
    "\n",
    "    # Waiting for the name of the business to load and be visible. If it fails, skip to next business in competition list :\n",
    "    try :\n",
    "        WebDriverWait(driver,25).until(EC.visibility_of_element_located((By.CLASS_NAME, \"section-hero-header-title-title\")))\n",
    "    except (NoSuchElementException, TimeoutException) as e :\n",
    "        continue\n",
    "        \n",
    "    # [STEP E] : Extracting the data and putting it into the empty lists we defined earlier :\n",
    "    try:\n",
    "        full_name.append(driver.find_element_by_xpath('//*[@id=\"pane\"]/div/div[1]/div/div/div[2]/div[1]/div[1]').text)\n",
    "    except NoSuchElementException :\n",
    "        full_name.append(np.nan)\n",
    "\n",
    "    try:\n",
    "        rating.append(driver.find_element_by_xpath('//*[@id=\"pane\"]/div/div[1]/div/div/div[2]/div[1]/div[2]/div/div[1]/span[1]/span/span').text)\n",
    "    except NoSuchElementException :\n",
    "        rating.append(np.nan)\n",
    "\n",
    "    try:\n",
    "        total_ratings.append(driver.find_element_by_xpath('//*[@id=\"pane\"]/div/div[1]/div/div/div[2]/div[1]/div[2]/div/div[1]/span[2]/span/span[1]/span[2]/span[1]/button').text)\n",
    "    except NoSuchElementException:\n",
    "        total_ratings.append(np.nan)\n",
    "\n",
    "    try:\n",
    "        business_cat.append(driver.find_element_by_xpath('//*[@id=\"pane\"]/div/div[1]/div/div/div[2]/div[1]/div[2]/div/div[2]/span[1]/span[1]/button').text)\n",
    "    except NoSuchElementException:\n",
    "        business_cat.append(np.nan)\n",
    "    \n",
    "    try:\n",
    "        address.append(driver.find_element_by_css_selector('div[data-tooltip=\"Copy address\"]').text)\n",
    "    except NoSuchElementException :\n",
    "        address.append(np.nan)\n",
    "    \n",
    "    try:\n",
    "        phone.append(driver.find_element_by_css_selector('div[data-tooltip=\"Copy phone number\"]').text)\n",
    "    except NoSuchElementException :\n",
    "        phone.append(np.nan)\n",
    "\n",
    "    try:\n",
    "        website.append(driver.find_element_by_css_selector('div[data-tooltip=\"Open website\"]').text)\n",
    "    except NoSuchElementException :\n",
    "        website.append(np.nan)\n",
    "    \n",
    "    try:\n",
    "        coordinates = driver.find_element_by_css_selector('meta[itemprop=image]').get_attribute('content')\n",
    "        coordinates = coordinates.split('?center=')[1].split('&zoom=')[0].split('%2C')\n",
    "        lat.append(coordinates[0])\n",
    "        long.append(coordinates[1])\n",
    "    except NoSuchElementException:\n",
    "        lat.append(np.nan)\n",
    "        long.append(np.nan)\n",
    "\n",
    "# Closing the Chrome window\n",
    "driver.close()"
   ]
  },
  {
   "cell_type": "markdown",
   "metadata": {},
   "source": [
    "After executing this code, you'll see a Chrome window open and the steps we outlined before execute one after the other automatically. From time to time, **Google Maps will confuse a business name/address with another**, and give you a choice :"
   ]
  },
  {
   "cell_type": "markdown",
   "metadata": {},
   "source": [
    "![image](https://i.ibb.co/YLY25Z2/miss.png)"
   ]
  },
  {
   "cell_type": "markdown",
   "metadata": {},
   "source": [
    "When this happens, simply click on the business closest to the query in the search bar, and the code will continue normally. You can also just ignore it and the code will skip to the next iteration in `competition` on its own after 25 seconds (so just go make that cup of tea while the code runs)."
   ]
  },
  {
   "cell_type": "markdown",
   "metadata": {},
   "source": [
    "If all worked as planned, let's make a pandas dataframe out of the lists we have extracted. Let's call it `PS` for Print Shops :"
   ]
  },
  {
   "cell_type": "code",
   "execution_count": 338,
   "metadata": {},
   "outputs": [],
   "source": [
    "PS = pd.DataFrame(data={'full_name':full_name, 'rating':rating, 'total_ratings':total_ratings,\n",
    "                                  'business_category':business_cat, 'address':address, 'phone':phone, 'website':website, \n",
    "                                 'latitude':lat, 'longitude':long})"
   ]
  },
  {
   "cell_type": "markdown",
   "metadata": {},
   "source": [
    "And here's our dataframe containing info on Kwik Kopy and around a hundred of its competitors :"
   ]
  },
  {
   "cell_type": "code",
   "execution_count": 339,
   "metadata": {},
   "outputs": [
    {
     "data": {
      "text/html": [
       "<div>\n",
       "<style scoped>\n",
       "    .dataframe tbody tr th:only-of-type {\n",
       "        vertical-align: middle;\n",
       "    }\n",
       "\n",
       "    .dataframe tbody tr th {\n",
       "        vertical-align: top;\n",
       "    }\n",
       "\n",
       "    .dataframe thead th {\n",
       "        text-align: right;\n",
       "    }\n",
       "</style>\n",
       "<table border=\"1\" class=\"dataframe\">\n",
       "  <thead>\n",
       "    <tr style=\"text-align: right;\">\n",
       "      <th></th>\n",
       "      <th>full_name</th>\n",
       "      <th>rating</th>\n",
       "      <th>total_ratings</th>\n",
       "      <th>business_category</th>\n",
       "      <th>address</th>\n",
       "      <th>phone</th>\n",
       "      <th>website</th>\n",
       "      <th>latitude</th>\n",
       "      <th>longitude</th>\n",
       "    </tr>\n",
       "  </thead>\n",
       "  <tbody>\n",
       "    <tr>\n",
       "      <td>0</td>\n",
       "      <td>Kwik Kopy Brisbane</td>\n",
       "      <td>4.3</td>\n",
       "      <td>(20)</td>\n",
       "      <td>Print shop</td>\n",
       "      <td>Emirates House, Level 19/167 Eagle St, Brisban...</td>\n",
       "      <td>+61 7 3229 9988</td>\n",
       "      <td>kwikkopy.com.au</td>\n",
       "      <td>-27.4660628</td>\n",
       "      <td>153.0305382</td>\n",
       "    </tr>\n",
       "    <tr>\n",
       "      <td>1</td>\n",
       "      <td>Worldwide Edward Street BRISBANE CBD</td>\n",
       "      <td>5.0</td>\n",
       "      <td>(42)</td>\n",
       "      <td>Print shop</td>\n",
       "      <td>Level 4 Rowes Building, 235, Edward St, Brisba...</td>\n",
       "      <td>+61 7 3229 8522</td>\n",
       "      <td>worldwide.com.au</td>\n",
       "      <td>-27.467671</td>\n",
       "      <td>153.026695</td>\n",
       "    </tr>\n",
       "    <tr>\n",
       "      <td>2</td>\n",
       "      <td>Copy Cat Printing and Signage</td>\n",
       "      <td>4.4</td>\n",
       "      <td>(36)</td>\n",
       "      <td>Print shop</td>\n",
       "      <td>109/101 Wickham Terrace, Spring Hill QLD 4000,...</td>\n",
       "      <td>+61 7 3831 4766</td>\n",
       "      <td>copycatprint.com.au</td>\n",
       "      <td>-27.464356</td>\n",
       "      <td>153.0262079</td>\n",
       "    </tr>\n",
       "    <tr>\n",
       "      <td>3</td>\n",
       "      <td>PostNet Brisbane CBD</td>\n",
       "      <td>4.9</td>\n",
       "      <td>(46)</td>\n",
       "      <td>Print shop</td>\n",
       "      <td>Anzac Square Arcade, PostNet Brisbane CBD Shop...</td>\n",
       "      <td>+61 7 3157 2776</td>\n",
       "      <td>NaN</td>\n",
       "      <td>-27.4670389</td>\n",
       "      <td>153.0264034</td>\n",
       "    </tr>\n",
       "    <tr>\n",
       "      <td>4</td>\n",
       "      <td>Worldwide Charlotte Street</td>\n",
       "      <td>4.7</td>\n",
       "      <td>(25)</td>\n",
       "      <td>Print shop</td>\n",
       "      <td>Ground Floor, Shop 2/119 Charlotte St, Brisban...</td>\n",
       "      <td>+61 7 3210 1110</td>\n",
       "      <td>worldwide.com.au</td>\n",
       "      <td>-27.470865</td>\n",
       "      <td>153.027357</td>\n",
       "    </tr>\n",
       "  </tbody>\n",
       "</table>\n",
       "</div>"
      ],
      "text/plain": [
       "                              full_name rating total_ratings  \\\n",
       "0                    Kwik Kopy Brisbane    4.3          (20)   \n",
       "1  Worldwide Edward Street BRISBANE CBD    5.0          (42)   \n",
       "2         Copy Cat Printing and Signage    4.4          (36)   \n",
       "3                  PostNet Brisbane CBD    4.9          (46)   \n",
       "4            Worldwide Charlotte Street    4.7          (25)   \n",
       "\n",
       "  business_category                                            address  \\\n",
       "0        Print shop  Emirates House, Level 19/167 Eagle St, Brisban...   \n",
       "1        Print shop  Level 4 Rowes Building, 235, Edward St, Brisba...   \n",
       "2        Print shop  109/101 Wickham Terrace, Spring Hill QLD 4000,...   \n",
       "3        Print shop  Anzac Square Arcade, PostNet Brisbane CBD Shop...   \n",
       "4        Print shop  Ground Floor, Shop 2/119 Charlotte St, Brisban...   \n",
       "\n",
       "             phone              website     latitude    longitude  \n",
       "0  +61 7 3229 9988      kwikkopy.com.au  -27.4660628  153.0305382  \n",
       "1  +61 7 3229 8522     worldwide.com.au   -27.467671   153.026695  \n",
       "2  +61 7 3831 4766  copycatprint.com.au   -27.464356  153.0262079  \n",
       "3  +61 7 3157 2776                  NaN  -27.4670389  153.0264034  \n",
       "4  +61 7 3210 1110     worldwide.com.au   -27.470865   153.027357  "
      ]
     },
     "execution_count": 339,
     "metadata": {},
     "output_type": "execute_result"
    }
   ],
   "source": [
    "PS.head()"
   ]
  },
  {
   "cell_type": "markdown",
   "metadata": {},
   "source": [
    "At this point, it is a good idea to save this dataframe as a CSV file for safe keeping :"
   ]
  },
  {
   "cell_type": "code",
   "execution_count": 340,
   "metadata": {},
   "outputs": [],
   "source": [
    "PS.to_csv('print_shops.csv', index=False)"
   ]
  },
  {
   "cell_type": "markdown",
   "metadata": {},
   "source": [
    "Next time we open the notebook, all we have to do is read the CSV file instead of running the web scraping code all over again :"
   ]
  },
  {
   "cell_type": "code",
   "execution_count": 35,
   "metadata": {},
   "outputs": [],
   "source": [
    "PS = pd.read_csv('print_shops.csv')"
   ]
  },
  {
   "cell_type": "code",
   "execution_count": 36,
   "metadata": {},
   "outputs": [
    {
     "data": {
      "text/plain": [
       "(113, 9)"
      ]
     },
     "execution_count": 36,
     "metadata": {},
     "output_type": "execute_result"
    }
   ],
   "source": [
    "PS.shape"
   ]
  },
  {
   "cell_type": "markdown",
   "metadata": {},
   "source": [
    "Let's see how many different business categories we got :"
   ]
  },
  {
   "cell_type": "code",
   "execution_count": 37,
   "metadata": {},
   "outputs": [
    {
     "data": {
      "text/plain": [
       "Print shop                        70\n",
       "Commercial printer                14\n",
       "Graphic designer                   6\n",
       "Digital printing service           3\n",
       "Sign shop                          3\n",
       "Pen store                          2\n",
       "Business management consultant     1\n",
       "Glass & mirror shop                1\n",
       "Art studio                         1\n",
       "Banner store                       1\n",
       "Office equipment supplier          1\n",
       "Photo restoration service          1\n",
       "Marketing agency                   1\n",
       "Website designer                   1\n",
       "Office supply store                1\n",
       "Computer store                     1\n",
       "Screen printing shop               1\n",
       "Photo lab                          1\n",
       "画廊                                 1\n",
       "Toner cartridge supplier           1\n",
       "Pizza restaurant                   1\n",
       "Name: business_category, dtype: int64"
      ]
     },
     "execution_count": 37,
     "metadata": {},
     "output_type": "execute_result"
    }
   ],
   "source": [
    "PS.business_category.value_counts()"
   ]
  },
  {
   "cell_type": "markdown",
   "metadata": {},
   "source": [
    "In this case, most businesses we got are **Print shops** and **Commercal printers**. These are the two main business categories that interest Ryan in our case. Let's get rid of the rest :"
   ]
  },
  {
   "cell_type": "code",
   "execution_count": 38,
   "metadata": {},
   "outputs": [],
   "source": [
    "PS = PS[PS.business_category.isin(['Print shop', 'Commercial printer'])].copy()"
   ]
  },
  {
   "cell_type": "code",
   "execution_count": 39,
   "metadata": {},
   "outputs": [
    {
     "data": {
      "text/plain": [
       "Print shop            70\n",
       "Commercial printer    14\n",
       "Name: business_category, dtype: int64"
      ]
     },
     "execution_count": 39,
     "metadata": {},
     "output_type": "execute_result"
    }
   ],
   "source": [
    "PS.business_category.value_counts()"
   ]
  },
  {
   "cell_type": "markdown",
   "metadata": {},
   "source": [
    "That's 84 different businesses Ryan can consider when looking for a job. Not bad! But how spread out are they in the city? To answer this question, let's map them out and add their info on a popup that shows up when a marker is clicked :"
   ]
  },
  {
   "cell_type": "code",
   "execution_count": 42,
   "metadata": {},
   "outputs": [
    {
     "data": {
      "text/html": [
       "\n",
       "        <iframe\n",
       "            width=\"100%\"\n",
       "            height=\"500\"\n",
       "            src=\"PS_map.html\"\n",
       "            frameborder=\"0\"\n",
       "            allowfullscreen\n",
       "        ></iframe>\n",
       "        "
      ],
      "text/plain": [
       "<IPython.lib.display.IFrame at 0x2cc368c84c8>"
      ]
     },
     "execution_count": 42,
     "metadata": {},
     "output_type": "execute_result"
    }
   ],
   "source": [
    "from IPython.display import IFrame\n",
    "\n",
    "PS_map = folium.Map( [-27.4,153], tiles='CartoDB positron' )\n",
    "\n",
    "for latitude, longitude, full_name, address, phone, website, rating, total_rating in zip(PS.latitude, PS.longitude, PS.full_name, PS.address, PS.phone, PS.website, PS.rating, PS.total_ratings):\n",
    "    popup = '<strong>' + str(full_name) + '</strong><br><br><ul><li>' + str(address) + '</li><li>' + str(phone) + '</li><li>' + str(website) + '</li><li>Rating: ' + str(rating) + ' (Total of ' + str(total_rating) + ' reviews)'\n",
    "    folium.Marker( [latitude, longitude], \n",
    "                   icon=folium.CustomIcon( icon_image='https://i.imgur.com/CYx04oC.png', icon_size=(10,10) ), popup=popup).add_to(PS_map)\n",
    "\n",
    "PS_map.save('PS_map.html')\n",
    "IFrame(src='PS_map.html', width='100%', height=500)"
   ]
  },
  {
   "cell_type": "markdown",
   "metadata": {},
   "source": [
    "Now this looks more like a road map for a job hunt adventure! Ryan can start contacting the nearest businesses to his home and spread outwards if need be.\n",
    "\n",
    "In this use case, the average rating and the total number of ratings have very little significance to Ryan. In the next example, we'll explore businesses in a sector where these two variables holds much more weight: we'll look for the best steak houses in the lively city of Glasgow."
   ]
  },
  {
   "cell_type": "markdown",
   "metadata": {},
   "source": [
    "---"
   ]
  },
  {
   "cell_type": "markdown",
   "metadata": {},
   "source": [
    "# Steak houses in Glasgow, Scotland :"
   ]
  },
  {
   "cell_type": "markdown",
   "metadata": {},
   "source": [
    "![Glasgow](https://i.ibb.co/LNYcdjg/glasgow.png)"
   ]
  },
  {
   "cell_type": "markdown",
   "metadata": {},
   "source": [
    "Photo by Dave Shea - Flickr.com (CC)"
   ]
  },
  {
   "cell_type": "markdown",
   "metadata": {},
   "source": [
    "Moira wants to treat her boyfriend to a good steak dinner as a birthday gift, but she doesn't know where to go in particular. She searched in a specialised blog and found **Mini Grill Steakhouse** to be one of the best in Glasgow. Let's help Moira decide which Steak house would be best for the occasion, knowing that she thinks that good **wine** (or cocktails) and **music** are a must for a good experience.\n",
    "\n",
    "We'll follow exactly the same steps as before, except for the addition of two new types of useful info: the **price range** (goes from `$` to `$$$$`) and the **review topics** (the numbers refer to how many reviews spoke about that topic) :"
   ]
  },
  {
   "cell_type": "markdown",
   "metadata": {},
   "source": [
    "![image](https://i.ibb.co/CQf2WMn/reviews.png)"
   ]
  },
  {
   "cell_type": "markdown",
   "metadata": {},
   "source": [
    "And here's the code we'll use (sometimes Google Maps does not show review topics at all. If that happened, just close the Chrome window, stop the code and re-run the cell again) :"
   ]
  },
  {
   "cell_type": "code",
   "execution_count": 98,
   "metadata": {},
   "outputs": [
    {
     "data": {
      "application/vnd.jupyter.widget-view+json": {
       "model_id": "",
       "version_major": 2,
       "version_minor": 0
      },
      "text/plain": [
       "HBox(children=(IntProgress(value=0, description='1. Rounding the competition', max=5, style=ProgressStyle(desc…"
      ]
     },
     "metadata": {},
     "output_type": "display_data"
    },
    {
     "data": {
      "application/vnd.jupyter.widget-view+json": {
       "model_id": "",
       "version_major": 2,
       "version_minor": 0
      },
      "text/plain": [
       "HBox(children=(IntProgress(value=0, description='Extracting the data', style=ProgressStyle(description_width='…"
      ]
     },
     "metadata": {},
     "output_type": "display_data"
    }
   ],
   "source": [
    "# Make sure to supply the path to where you put the chromedriver.exe file. Use \\\\ instead of \\ : :\n",
    "driver = webdriver.Chrome(\"C:\\\\chromedriver.exe\")\n",
    "\n",
    "# This is the list where we'll capture the competitors' names and addresses\n",
    "competition = []\n",
    "\n",
    "# [STEP A] : The name and location of the initial steak house that will go into the search URL\n",
    "starting_business = 'Mini Grill Steakhouse'\n",
    "city = 'Glasgow'\n",
    "url = 'https://www.google.com/maps/search/' + starting_business + ' ' + city\n",
    "\n",
    "# [STEP A] : Opening the search URL. You'll notice a chrome window opening :\n",
    "driver.get(url)\n",
    "\n",
    "# Waiting for the name of the business to load and be visible :\n",
    "WebDriverWait(driver,25).until(EC.visibility_of_element_located((By.CLASS_NAME, \"section-hero-header-title-title\")))\n",
    "\n",
    "# [STEP B] : Clicking on the business category :\n",
    "driver.find_element_by_xpath('//*[@id=\"pane\"]/div/div[1]/div/div/div[2]/div[1]/div[2]/div/div[2]/span[1]/span[1]/button').click()\n",
    "\n",
    "# Waiting for the results to appear :\n",
    "WebDriverWait(driver,25).until(EC.visibility_of_element_located((By.CLASS_NAME, \"section-result-title\")))\n",
    "        \n",
    "# [STEP C] : We repeat the code below 5 times (if we arrive at the end of the navgation list the loop breaks on its own) :\n",
    "for i in tqdmn(range(5), leave=False, desc='1. Rounding the competition' ) :\n",
    "    \n",
    "    # Waiting for the results to appear :\n",
    "    WebDriverWait(driver,25).until(EC.visibility_of_element_located((By.CLASS_NAME, \"section-result-title\")))\n",
    "\n",
    "    # Capturing the names and addresses of the competitors and adding them to our list 'competition' :\n",
    "    result_names = [i.text for i in driver.find_elements_by_css_selector('h3[class=section-result-title]')]\n",
    "    result_addresses = [i.text for i in driver.find_elements_by_css_selector('span[class=section-result-location]')] \n",
    "    \n",
    "    for name, address in zip(result_names, result_addresses) :\n",
    "        competition.append(name + ' ' + address)\n",
    "        \n",
    "    # Waiting for the 'Next' button to be visible and then click it :\n",
    "    try :\n",
    "        WebDriverWait(driver,25).until(EC.visibility_of_element_located((By.XPATH, \"//*[@id='n7lv7yjyC35__section-pagination-button-next']\"))).click()\n",
    "    except ElementClickInterceptedException :\n",
    "        break\n",
    "        \n",
    "    # Waiting 5 seconds before looping (otherwise we get the error ElementClickInterceptedException). If you get the\n",
    "    #exception, make it wait for a little longer than 5 seconds :\n",
    "    time.sleep(5)\n",
    "\n",
    "# We want to remove any '/' character in the names and addresses in the competition list (because they'll break URLs) :\n",
    "competition = [i.replace('/', ' ') for i in competition]\n",
    "\n",
    "# These are the empty lists we will populate with the extracted data :\n",
    "full_name = []\n",
    "rating = []\n",
    "total_ratings = []\n",
    "business_cat = []\n",
    "price_range = []\n",
    "address = []\n",
    "phone = []\n",
    "website = []\n",
    "review_topics = []\n",
    "lat = []\n",
    "long = []\n",
    "    \n",
    "# Here's the big loop iterating over the competiton list :\n",
    "for business in tqdmn(competition, leave=False, desc='2. Extracting the data') :\n",
    "    \n",
    "    # [STEP D] :\n",
    "    url = 'https://www.google.com/maps/search/' + business\n",
    "    driver.get(url)\n",
    "\n",
    "    # Waiting for the name of the business to load and be visible. If it fails, skip to next business in the competition list :\n",
    "    try :\n",
    "        WebDriverWait(driver,25).until(EC.visibility_of_element_located((By.CLASS_NAME, \"section-hero-header-title-title\")))\n",
    "    except (NoSuchElementException, TimeoutException) as e :\n",
    "        continue\n",
    "        \n",
    "    # [STEP E] : Extracting the data and putting it into the empty lists we defined earlier :\n",
    "    try:\n",
    "        full_name.append(driver.find_element_by_xpath('//*[@id=\"pane\"]/div/div[1]/div/div/div[2]/div[1]/div[1]').text)\n",
    "    except NoSuchElementException :\n",
    "        full_name.append(np.nan)\n",
    "\n",
    "    try:\n",
    "        rating.append(driver.find_element_by_xpath('//*[@id=\"pane\"]/div/div[1]/div/div/div[2]/div[1]/div[2]/div/div[1]/span[1]/span/span').text)\n",
    "    except NoSuchElementException :\n",
    "        rating.append(np.nan)\n",
    "\n",
    "    try:\n",
    "        total_ratings.append(driver.find_element_by_xpath('//*[@id=\"pane\"]/div/div[1]/div/div/div[2]/div[1]/div[2]/div/div[1]/span[2]/span/span[1]/span[2]/span[1]/button').text)\n",
    "    except NoSuchElementException:\n",
    "        total_ratings.append(np.nan)\n",
    "\n",
    "    try:\n",
    "        business_cat.append(driver.find_element_by_xpath('//*[@id=\"pane\"]/div/div[1]/div/div/div[2]/div[1]/div[2]/div/div[2]/span[1]/span[1]/button').text)\n",
    "    except NoSuchElementException:\n",
    "        business_cat.append(np.nan)\n",
    "        \n",
    "    try:\n",
    "        price_range.append(driver.find_element_by_xpath('//*[@id=\"pane\"]/div/div[1]/div/div/div[2]/div[1]/div[2]/div/div[1]/span[2]/span/span[2]/span[2]/span[1]/span').text)\n",
    "    except NoSuchElementException:\n",
    "        price_range.append(np.nan)\n",
    "    \n",
    "    try:\n",
    "        address.append(driver.find_element_by_css_selector('div[data-tooltip=\"Copy address\"]').text)\n",
    "    except NoSuchElementException :\n",
    "        address.append(np.nan)\n",
    "    \n",
    "    try:\n",
    "        phone.append(driver.find_element_by_css_selector('div[data-tooltip=\"Copy phone number\"]').text)\n",
    "    except NoSuchElementException :\n",
    "        phone.append(np.nan)\n",
    "\n",
    "    try:\n",
    "        website.append(driver.find_element_by_css_selector('div[data-tooltip=\"Open website\"]').text)\n",
    "    except NoSuchElementException :\n",
    "        website.append(np.nan)\n",
    "    \n",
    "    try :\n",
    "        driver.find_element_by_xpath(\"//*[contains(@aria-label, 'more Topics')]\").click()\n",
    "    except (NoSuchElementException, ElementNotInteractableException, ElementClickInterceptedException) as e:\n",
    "        pass\n",
    "    \n",
    "    try:\n",
    "        review_topics.append([i.text for i in driver.find_elements_by_xpath(\"//*[contains(@aria-label, 'mentioned')]\")])\n",
    "    except NoSuchElementException :\n",
    "        review_topics.append(np.nan)\n",
    "    \n",
    "    try:\n",
    "        coordinates = driver.find_element_by_css_selector('meta[itemprop=image]').get_attribute('content')\n",
    "        coordinates = coordinates.split('?center=')[1].split('&zoom=')[0].split('%2C')\n",
    "        lat.append(coordinates[0])\n",
    "        long.append(coordinates[1])\n",
    "    except NoSuchElementException:\n",
    "        lat.append(np.nan)\n",
    "        long.append(np.nan)\n",
    "\n",
    "# Closing the Chrome window\n",
    "driver.close()"
   ]
  },
  {
   "cell_type": "markdown",
   "metadata": {},
   "source": [
    "Now let's make a dataframe out of the lists we extracted. We'll name it `SH` for Steak Houses :"
   ]
  },
  {
   "cell_type": "code",
   "execution_count": 132,
   "metadata": {},
   "outputs": [],
   "source": [
    "SH = pd.DataFrame(data={'full_name':full_name, 'rating':rating, 'total_ratings':total_ratings,\n",
    "                                  'business_category':business_cat, 'price_range':price_range, 'address':address, \n",
    "                        'phone':phone, 'website':website, 'review_topics':review_topics, 'latitude':lat, 'longitude':long})"
   ]
  },
  {
   "cell_type": "markdown",
   "metadata": {},
   "source": [
    "We got around 100 establishments :"
   ]
  },
  {
   "cell_type": "code",
   "execution_count": 44,
   "metadata": {},
   "outputs": [
    {
     "data": {
      "text/html": [
       "<div>\n",
       "<style scoped>\n",
       "    .dataframe tbody tr th:only-of-type {\n",
       "        vertical-align: middle;\n",
       "    }\n",
       "\n",
       "    .dataframe tbody tr th {\n",
       "        vertical-align: top;\n",
       "    }\n",
       "\n",
       "    .dataframe thead th {\n",
       "        text-align: right;\n",
       "    }\n",
       "</style>\n",
       "<table border=\"1\" class=\"dataframe\">\n",
       "  <thead>\n",
       "    <tr style=\"text-align: right;\">\n",
       "      <th></th>\n",
       "      <th>full_name</th>\n",
       "      <th>rating</th>\n",
       "      <th>total_ratings</th>\n",
       "      <th>business_category</th>\n",
       "      <th>price_range</th>\n",
       "      <th>address</th>\n",
       "      <th>phone</th>\n",
       "      <th>website</th>\n",
       "      <th>review_topics</th>\n",
       "      <th>latitude</th>\n",
       "      <th>longitude</th>\n",
       "    </tr>\n",
       "  </thead>\n",
       "  <tbody>\n",
       "    <tr>\n",
       "      <td>0</td>\n",
       "      <td>Mini Grill Steakhouse - Glasgow</td>\n",
       "      <td>4.7</td>\n",
       "      <td>(567)</td>\n",
       "      <td>Steak house</td>\n",
       "      <td>$$</td>\n",
       "      <td>244A Bath St, Glasgow G2 4JW, United Kingdom</td>\n",
       "      <td>+44 141 332 2732</td>\n",
       "      <td>minigrillglasgow.co.uk</td>\n",
       "      <td>['haggis\\n23', 'burger\\n22', 'scallops\\n7', 'r...</td>\n",
       "      <td>55.865028</td>\n",
       "      <td>-4.265692</td>\n",
       "    </tr>\n",
       "    <tr>\n",
       "      <td>1</td>\n",
       "      <td>Meat Bar</td>\n",
       "      <td>4.6</td>\n",
       "      <td>(501)</td>\n",
       "      <td>Steak house</td>\n",
       "      <td>$$</td>\n",
       "      <td>142 W Regent St, Glasgow G2 2RQ, United Kingdom</td>\n",
       "      <td>+44 141 204 3605</td>\n",
       "      <td>themeatbar.co.uk</td>\n",
       "      <td>['burgers\\n41', 'cocktails\\n25', 'fries\\n17', ...</td>\n",
       "      <td>55.863674</td>\n",
       "      <td>-4.260043</td>\n",
       "    </tr>\n",
       "    <tr>\n",
       "      <td>2</td>\n",
       "      <td>Marco Pierre White Steakhouse, Bar &amp; Grill Gla...</td>\n",
       "      <td>3.6</td>\n",
       "      <td>(309)</td>\n",
       "      <td>Steak house</td>\n",
       "      <td>$$$</td>\n",
       "      <td>75 Waterloo St, Glasgow G2 7DA, United Kingdom</td>\n",
       "      <td>+44 141 226 7726</td>\n",
       "      <td>mpwrestaurants.co.uk</td>\n",
       "      <td>['afternoon tea\\n18', 'hotel\\n13', 'chateaubri...</td>\n",
       "      <td>55.860361</td>\n",
       "      <td>-4.263138</td>\n",
       "    </tr>\n",
       "    <tr>\n",
       "      <td>3</td>\n",
       "      <td>Miller &amp; Carter Glasgow</td>\n",
       "      <td>4.6</td>\n",
       "      <td>(2,679)</td>\n",
       "      <td>Steak house</td>\n",
       "      <td>$$</td>\n",
       "      <td>47 St Vincent St, Glasgow G2 5QX, United Kingdom</td>\n",
       "      <td>+44 141 404 2914</td>\n",
       "      <td>millerandcarter.co.uk</td>\n",
       "      <td>['toilets\\n30', 'beef dripping\\n20', 'chateaub...</td>\n",
       "      <td>55.861113</td>\n",
       "      <td>-4.254384</td>\n",
       "    </tr>\n",
       "    <tr>\n",
       "      <td>4</td>\n",
       "      <td>Blackhouse Steakhouse Glasgow</td>\n",
       "      <td>4.1</td>\n",
       "      <td>(13)</td>\n",
       "      <td>Steak house</td>\n",
       "      <td>NaN</td>\n",
       "      <td>21 Bothwell St, Glasgow G2 6NL, United Kingdom</td>\n",
       "      <td>+44 141 248 6262</td>\n",
       "      <td>blackhouse.uk.com</td>\n",
       "      <td>[]</td>\n",
       "      <td>55.860917</td>\n",
       "      <td>-4.259839</td>\n",
       "    </tr>\n",
       "  </tbody>\n",
       "</table>\n",
       "</div>"
      ],
      "text/plain": [
       "                                           full_name  rating total_ratings  \\\n",
       "0                    Mini Grill Steakhouse - Glasgow     4.7         (567)   \n",
       "1                                           Meat Bar     4.6         (501)   \n",
       "2  Marco Pierre White Steakhouse, Bar & Grill Gla...     3.6         (309)   \n",
       "3                            Miller & Carter Glasgow     4.6       (2,679)   \n",
       "4                      Blackhouse Steakhouse Glasgow     4.1          (13)   \n",
       "\n",
       "  business_category price_range  \\\n",
       "0       Steak house          $$   \n",
       "1       Steak house          $$   \n",
       "2       Steak house         $$$   \n",
       "3       Steak house          $$   \n",
       "4       Steak house         NaN   \n",
       "\n",
       "                                            address             phone  \\\n",
       "0      244A Bath St, Glasgow G2 4JW, United Kingdom  +44 141 332 2732   \n",
       "1   142 W Regent St, Glasgow G2 2RQ, United Kingdom  +44 141 204 3605   \n",
       "2    75 Waterloo St, Glasgow G2 7DA, United Kingdom  +44 141 226 7726   \n",
       "3  47 St Vincent St, Glasgow G2 5QX, United Kingdom  +44 141 404 2914   \n",
       "4    21 Bothwell St, Glasgow G2 6NL, United Kingdom  +44 141 248 6262   \n",
       "\n",
       "                  website                                      review_topics  \\\n",
       "0  minigrillglasgow.co.uk  ['haggis\\n23', 'burger\\n22', 'scallops\\n7', 'r...   \n",
       "1        themeatbar.co.uk  ['burgers\\n41', 'cocktails\\n25', 'fries\\n17', ...   \n",
       "2    mpwrestaurants.co.uk  ['afternoon tea\\n18', 'hotel\\n13', 'chateaubri...   \n",
       "3   millerandcarter.co.uk  ['toilets\\n30', 'beef dripping\\n20', 'chateaub...   \n",
       "4       blackhouse.uk.com                                                 []   \n",
       "\n",
       "    latitude  longitude  \n",
       "0  55.865028  -4.265692  \n",
       "1  55.863674  -4.260043  \n",
       "2  55.860361  -4.263138  \n",
       "3  55.861113  -4.254384  \n",
       "4  55.860917  -4.259839  "
      ]
     },
     "execution_count": 44,
     "metadata": {},
     "output_type": "execute_result"
    }
   ],
   "source": [
    "SH.head(5)"
   ]
  },
  {
   "cell_type": "markdown",
   "metadata": {},
   "source": [
    "Just like before, let's save/open this dataframe as a CSV file for safe keeping (so we won't have to run the script above every time we open the notebook) :"
   ]
  },
  {
   "cell_type": "code",
   "execution_count": 133,
   "metadata": {},
   "outputs": [],
   "source": [
    "SH.to_csv('steak_houses.csv', index=False)"
   ]
  },
  {
   "cell_type": "code",
   "execution_count": 43,
   "metadata": {},
   "outputs": [],
   "source": [
    "SH = pd.read_csv('steak_houses.csv')"
   ]
  },
  {
   "cell_type": "code",
   "execution_count": 45,
   "metadata": {},
   "outputs": [
    {
     "data": {
      "text/plain": [
       "(99, 11)"
      ]
     },
     "execution_count": 45,
     "metadata": {},
     "output_type": "execute_result"
    }
   ],
   "source": [
    "SH.shape"
   ]
  },
  {
   "cell_type": "markdown",
   "metadata": {},
   "source": [
    "Let's take a look at the business categories we got :"
   ]
  },
  {
   "cell_type": "code",
   "execution_count": 140,
   "metadata": {},
   "outputs": [
    {
     "data": {
      "text/plain": [
       "Steak house                    25\n",
       "Restaurant                     13\n",
       "Italian restaurant             12\n",
       "Bar & grill                     7\n",
       "Indian restaurant               5\n",
       "Chinese restaurant              2\n",
       "British restaurant              2\n",
       "Cocktail bar                    2\n",
       "Pancake restaurant              2\n",
       "Fast food restaurant            2\n",
       "Hamburger restaurant            2\n",
       "French restaurant               2\n",
       "Pizza restaurant                2\n",
       "Pub                             2\n",
       "Vegan restaurant                1\n",
       "Fish and seafood restaurant     1\n",
       "Japanese restaurant             1\n",
       "American restaurant             1\n",
       "Country food restaurant         1\n",
       "Japanese steakhouse             1\n",
       "Chicken restaurant              1\n",
       "Spanish restaurant              1\n",
       "Chophouse restaurant            1\n",
       "Event venue                     1\n",
       "Night club                      1\n",
       "Meat dish restaurant            1\n",
       "Kebab shop                      1\n",
       "Bar                             1\n",
       "Brazilian restaurant            1\n",
       "Turkish restaurant              1\n",
       "Name: business_category, dtype: int64"
      ]
     },
     "execution_count": 140,
     "metadata": {},
     "output_type": "execute_result"
    }
   ],
   "source": [
    "SH.business_category.value_counts()"
   ]
  },
  {
   "cell_type": "markdown",
   "metadata": {},
   "source": [
    "We want to only keep the establishments that are **Steak houses**, **Bar & Grills** or **restaurants having the name 'steak' or 'grill' in their names**. Let's call this new dataframe `SBR` (for Steak houses, Bar & Grills and Restaurants) :"
   ]
  },
  {
   "cell_type": "code",
   "execution_count": 13,
   "metadata": {},
   "outputs": [],
   "source": [
    "steak_houses = SH[SH.business_category == 'Steak house']\n",
    "bar_grills  = SH[SH.business_category == 'Bar & grill']\n",
    "restaurants  = SH[(SH.business_category.str.contains('Restaurant', case=False)) & (SH.full_name.str.contains('steak|grill', case=False, regex=True))]\n",
    "\n",
    "SBR = pd.concat([steak_houses, bar_grills, restaurants])"
   ]
  },
  {
   "cell_type": "code",
   "execution_count": 14,
   "metadata": {
    "scrolled": false
   },
   "outputs": [
    {
     "data": {
      "text/html": [
       "<div>\n",
       "<style scoped>\n",
       "    .dataframe tbody tr th:only-of-type {\n",
       "        vertical-align: middle;\n",
       "    }\n",
       "\n",
       "    .dataframe tbody tr th {\n",
       "        vertical-align: top;\n",
       "    }\n",
       "\n",
       "    .dataframe thead th {\n",
       "        text-align: right;\n",
       "    }\n",
       "</style>\n",
       "<table border=\"1\" class=\"dataframe\">\n",
       "  <thead>\n",
       "    <tr style=\"text-align: right;\">\n",
       "      <th></th>\n",
       "      <th>full_name</th>\n",
       "      <th>rating</th>\n",
       "      <th>total_ratings</th>\n",
       "      <th>business_category</th>\n",
       "      <th>price_range</th>\n",
       "      <th>address</th>\n",
       "      <th>phone</th>\n",
       "      <th>website</th>\n",
       "      <th>review_topics</th>\n",
       "      <th>latitude</th>\n",
       "      <th>longitude</th>\n",
       "    </tr>\n",
       "  </thead>\n",
       "  <tbody>\n",
       "    <tr>\n",
       "      <td>0</td>\n",
       "      <td>Mini Grill Steakhouse - Glasgow</td>\n",
       "      <td>4.7</td>\n",
       "      <td>(567)</td>\n",
       "      <td>Steak house</td>\n",
       "      <td>$$</td>\n",
       "      <td>244A Bath St, Glasgow G2 4JW, United Kingdom</td>\n",
       "      <td>+44 141 332 2732</td>\n",
       "      <td>minigrillglasgow.co.uk</td>\n",
       "      <td>['haggis\\n23', 'burger\\n22', 'scallops\\n7', 'r...</td>\n",
       "      <td>55.865028</td>\n",
       "      <td>-4.265692</td>\n",
       "    </tr>\n",
       "    <tr>\n",
       "      <td>1</td>\n",
       "      <td>Meat Bar</td>\n",
       "      <td>4.6</td>\n",
       "      <td>(501)</td>\n",
       "      <td>Steak house</td>\n",
       "      <td>$$</td>\n",
       "      <td>142 W Regent St, Glasgow G2 2RQ, United Kingdom</td>\n",
       "      <td>+44 141 204 3605</td>\n",
       "      <td>themeatbar.co.uk</td>\n",
       "      <td>['burgers\\n41', 'cocktails\\n25', 'fries\\n17', ...</td>\n",
       "      <td>55.863674</td>\n",
       "      <td>-4.260043</td>\n",
       "    </tr>\n",
       "  </tbody>\n",
       "</table>\n",
       "</div>"
      ],
      "text/plain": [
       "                         full_name  rating total_ratings business_category  \\\n",
       "0  Mini Grill Steakhouse - Glasgow     4.7         (567)       Steak house   \n",
       "1                         Meat Bar     4.6         (501)       Steak house   \n",
       "\n",
       "  price_range                                          address  \\\n",
       "0          $$     244A Bath St, Glasgow G2 4JW, United Kingdom   \n",
       "1          $$  142 W Regent St, Glasgow G2 2RQ, United Kingdom   \n",
       "\n",
       "              phone                 website  \\\n",
       "0  +44 141 332 2732  minigrillglasgow.co.uk   \n",
       "1  +44 141 204 3605        themeatbar.co.uk   \n",
       "\n",
       "                                       review_topics   latitude  longitude  \n",
       "0  ['haggis\\n23', 'burger\\n22', 'scallops\\n7', 'r...  55.865028  -4.265692  \n",
       "1  ['burgers\\n41', 'cocktails\\n25', 'fries\\n17', ...  55.863674  -4.260043  "
      ]
     },
     "execution_count": 14,
     "metadata": {},
     "output_type": "execute_result"
    }
   ],
   "source": [
    "SBR.head(2)"
   ]
  },
  {
   "cell_type": "markdown",
   "metadata": {},
   "source": [
    "That's 47 establishments to choose from!"
   ]
  },
  {
   "cell_type": "code",
   "execution_count": 173,
   "metadata": {},
   "outputs": [
    {
     "data": {
      "text/plain": [
       "(47, 11)"
      ]
     },
     "execution_count": 173,
     "metadata": {},
     "output_type": "execute_result"
    }
   ],
   "source": [
    "SBR.shape"
   ]
  },
  {
   "cell_type": "markdown",
   "metadata": {},
   "source": [
    "Now let's help Moira pick the best deal from this selection of fine dining places. If you remember, Moira wants a good experience with **wine** or **cocktails** and **music**. Let's see the `review_topics` for the places that have one or more of these requirements :"
   ]
  },
  {
   "cell_type": "code",
   "execution_count": 274,
   "metadata": {
    "scrolled": false
   },
   "outputs": [
    {
     "data": {
      "text/plain": [
       "[\"['burgers\\\\n41', 'cocktails\\\\n25', 'fries\\\\n17', 'craft beer\\\\n9', 'sirloin\\\\n9', 'music\\\\n8', 'haggis\\\\n6', 'bacon\\\\n6', 'sides\\\\n6', 'ribs\\\\n5']\",\n",
       " \"['toilets\\\\n30', 'beef dripping\\\\n20', 'chateaubriand\\\\n13', 'prosecco\\\\n11', 'bank vault\\\\n7', 'butcher block\\\\n7', 'food and wine\\\\n7', 'christmas menu\\\\n6', 'loaf\\\\n6', 'architecture\\\\n5']\",\n",
       " \"['gin\\\\n62', 'cocktails\\\\n27', 'station\\\\n17', 'sunday roast\\\\n13', 'night\\\\n8', 'chips\\\\n8', 'stairs\\\\n6', 'medium rare\\\\n6', 'chocolate brownie\\\\n5', 'choice\\\\n5']\",\n",
       " \"['cocktails\\\\n18', 'chips\\\\n11', 'sunday roast\\\\n10', 'mac and cheese\\\\n10', 'sides\\\\n8', 'bone marrow\\\\n5', 'chateaubriand\\\\n5', 'beef dripping\\\\n5', 'dry aged\\\\n5', 'knife\\\\n5']\",\n",
       " \"['night\\\\n9', 'course\\\\n8', 'voucher\\\\n6', 'food and service\\\\n6', 'dining\\\\n6', 'cocktails\\\\n5', 'book\\\\n4', 'afternoon tea\\\\n3', 'groupon\\\\n3', 'window\\\\n3']\",\n",
       " \"['night\\\\n10', 'value\\\\n9', 'choice\\\\n6', 'music\\\\n6', 'chips\\\\n6', 'skewers\\\\n5', 'cheesecake\\\\n4', 'tomato\\\\n4', 'mussels\\\\n3', 'presentation\\\\n3']\",\n",
       " \"['birthday\\\\n12', 'value\\\\n9', 'night\\\\n9', 'room\\\\n8', 'steak pie\\\\n7', 'party\\\\n5', 'wine\\\\n5', 'goats cheese\\\\n3', 'braised\\\\n3', 'prawns\\\\n3']\",\n",
       " \"['ribeye\\\\n12', 'lettuce\\\\n9', 'chips\\\\n8', 'cocktails\\\\n8', 'value\\\\n8', 'food and service\\\\n8', 'choices\\\\n7', 'christmas\\\\n5', 'course\\\\n5', 't bone steak\\\\n5']\",\n",
       " \"['value\\\\n5', 'wine\\\\n5', 'burgers\\\\n3']\",\n",
       " \"['value\\\\n18', 'course\\\\n10', 'sunday roast\\\\n9', 'birthday\\\\n7', 'chips\\\\n4', 'family meal\\\\n3', 'roast beef\\\\n3', 'desert\\\\n3', 'choice\\\\n3', 'wine\\\\n3']\",\n",
       " \"['cocktails\\\\n17', 'value\\\\n15', 'butcher block\\\\n12', 't-bone\\\\n12', 'courses\\\\n11', 'anniversary\\\\n10', 'chateaubriand\\\\n9', 'beef dripping\\\\n8', 'toilets\\\\n6', 'prosecco\\\\n5']\",\n",
       " \"['sides\\\\n15', 'cocktails\\\\n8', 'fries\\\\n8', 'well done\\\\n7', 'night\\\\n5', 'oysters\\\\n4', 'basement\\\\n3', 'sunday roast\\\\n3', 'rump\\\\n3', 'food and wine\\\\n3']\",\n",
       " \"['sides\\\\n26', 'wine\\\\n20', 'porterhouse\\\\n12', 'breakfast\\\\n9', 'sourdough\\\\n7', 'bloody mary\\\\n6', 'sunday roast\\\\n6', 'oysters\\\\n6', 'scotch egg\\\\n5', 'onion rings\\\\n5']\",\n",
       " \"['cocktails\\\\n81', 'steak\\\\n15', 'building\\\\n14', 'food and service\\\\n9', 'choice\\\\n8', 'piano\\\\n7', 'interior\\\\n6', 'christmas lunch\\\\n5', 'course\\\\n5', 'noise\\\\n5']\",\n",
       " \"['piano\\\\n14', 'evening\\\\n7', 'breakfast\\\\n7', 'theatre\\\\n6', 'choice\\\\n6', 'train\\\\n5', 'wine\\\\n5', 'to go\\\\n3', 'chicken\\\\n3']\",\n",
       " \"['burger\\\\n18', 'cocktails\\\\n14', 'live music\\\\n8', 'fries\\\\n7', 'night\\\\n5', 'birthday\\\\n4', 'hot dog\\\\n3', 'pints\\\\n3', 'mac and cheese\\\\n3', 'dj\\\\n3']\",\n",
       " \"['steak\\\\n8', 'waiter\\\\n7', 'wine\\\\n5', 'cooked\\\\n5', 'food, service\\\\n4', 'customer service\\\\n4', 'chips\\\\n3', 'evening\\\\n3', 'atmosphere\\\\n3', 'experience\\\\n3']\",\n",
       " \"['burgers\\\\n58', 'cocktails\\\\n39', 'fries\\\\n15', 'hot dogs\\\\n13', 'chicken wings\\\\n11', 'value\\\\n9', 'atmosphere\\\\n8', 'choice\\\\n5', 'money\\\\n5', 'chilli\\\\n4']\",\n",
       " \"['chef\\\\n11', 'wine\\\\n7', 'experience\\\\n7', 'children\\\\n4', 'sides\\\\n3', 'cost\\\\n3']\",\n",
       " \"['cocktails\\\\n23', 'burger\\\\n16', 'night\\\\n15', 'chicken\\\\n15', 'chips\\\\n10', 'deal\\\\n8', 'pizza\\\\n8', 'theatre\\\\n7', 'the atmosphere\\\\n6', 'halal\\\\n5']\",\n",
       " \"['t-bone\\\\n17', 'sunday roast\\\\n16', 'cocktails\\\\n15', 'well done\\\\n14', 'onion rings\\\\n8', 'cuts of meat\\\\n7', 'sirloin\\\\n6', 'kelvingrove park\\\\n5', 'chateaubriand\\\\n5', 'scotch egg\\\\n5']\",\n",
       " \"['steak\\\\n30', 'building\\\\n20', 'cocktails\\\\n18', 'bar\\\\n18', 'brunch\\\\n15', 'night\\\\n14', 'dining\\\\n11', 'courses\\\\n9', 'birthday\\\\n7', 'oysters\\\\n6']\",\n",
       " \"['breakfast\\\\n13', 'steak\\\\n10', 'wine\\\\n8', 'food, service\\\\n5', 'dining\\\\n4', 'girlfriend\\\\n3', 'roast\\\\n3', 'calamari\\\\n3', 'choice\\\\n3', 'value\\\\n3']\",\n",
       " \"['cooked\\\\n9', 'drinks\\\\n6', 'wine\\\\n5', 'night\\\\n5', 'course\\\\n4', 'party\\\\n3', 'potato\\\\n3', 'chicken\\\\n3']\",\n",
       " \"['burger\\\\n18', 'cocktails\\\\n15', 'drinks\\\\n11', 'chicken\\\\n8', 'chips\\\\n6', 'steak\\\\n5', 'cooked\\\\n5', 'sauce\\\\n5', 'voucher\\\\n3', 'hot dog\\\\n3']\",\n",
       " \"['vegan\\\\n17', 'cocktails\\\\n13', 'mac and cheese\\\\n4', 'nacho\\\\n4', 'value\\\\n4', 'brisket\\\\n3', 'portion sizes\\\\n3', 'sweet potato fries\\\\n3', 'sides\\\\n3']\"]"
      ]
     },
     "execution_count": 274,
     "metadata": {},
     "output_type": "execute_result"
    }
   ],
   "source": [
    "list(SBR[SBR.review_topics.str.contains('\\Wwine|cocktail|music', case=False, regex=True)].review_topics)"
   ]
  },
  {
   "cell_type": "markdown",
   "metadata": {},
   "source": [
    "As we can see above, 16 different places have at least one of the 3 keywords. To be able to make a choice, let's add 3 new columns `wine`, `cocktails` and `music` containing how many times these keywords were mentioned by the reviews (that's the number that comes after `\\\\n` in the extracted `review_topics`. We are NOT counting how many these words are mentioned). We'll use RegEx to extract the info we want: first we extract the part `'wine\\\\n8'` with `wine......|$`, and then we take out the number using `\\d+|$`. `|$` here insures we get an empty value if the patterns are not there :"
   ]
  },
  {
   "cell_type": "code",
   "execution_count": 15,
   "metadata": {},
   "outputs": [],
   "source": [
    "wine = []\n",
    "for i in SBR.review_topics :\n",
    "    wine.append(re.findall('\\d+|$', re.findall('wine......|$', i)[0])[0] )\n",
    "\n",
    "SBR['wine'] = wine\n",
    "\n",
    "cocktail = []\n",
    "for i in SBR.review_topics :\n",
    "    cocktail.append(re.findall('\\d+|$', re.findall('cocktail......|$', i)[0])[0] )\n",
    "\n",
    "SBR['cocktail'] = cocktail\n",
    "\n",
    "music = []\n",
    "for i in SBR.review_topics :\n",
    "    music.append(re.findall('\\d+|$', re.findall('music......|$', i)[0])[0] )\n",
    "\n",
    "SBR['music'] = music"
   ]
  },
  {
   "cell_type": "code",
   "execution_count": 16,
   "metadata": {},
   "outputs": [
    {
     "data": {
      "text/html": [
       "<div>\n",
       "<style scoped>\n",
       "    .dataframe tbody tr th:only-of-type {\n",
       "        vertical-align: middle;\n",
       "    }\n",
       "\n",
       "    .dataframe tbody tr th {\n",
       "        vertical-align: top;\n",
       "    }\n",
       "\n",
       "    .dataframe thead th {\n",
       "        text-align: right;\n",
       "    }\n",
       "</style>\n",
       "<table border=\"1\" class=\"dataframe\">\n",
       "  <thead>\n",
       "    <tr style=\"text-align: right;\">\n",
       "      <th></th>\n",
       "      <th>full_name</th>\n",
       "      <th>rating</th>\n",
       "      <th>total_ratings</th>\n",
       "      <th>business_category</th>\n",
       "      <th>price_range</th>\n",
       "      <th>address</th>\n",
       "      <th>phone</th>\n",
       "      <th>website</th>\n",
       "      <th>review_topics</th>\n",
       "      <th>latitude</th>\n",
       "      <th>longitude</th>\n",
       "      <th>wine</th>\n",
       "      <th>cocktail</th>\n",
       "      <th>music</th>\n",
       "    </tr>\n",
       "  </thead>\n",
       "  <tbody>\n",
       "    <tr>\n",
       "      <td>0</td>\n",
       "      <td>Mini Grill Steakhouse - Glasgow</td>\n",
       "      <td>4.7</td>\n",
       "      <td>(567)</td>\n",
       "      <td>Steak house</td>\n",
       "      <td>$$</td>\n",
       "      <td>244A Bath St, Glasgow G2 4JW, United Kingdom</td>\n",
       "      <td>+44 141 332 2732</td>\n",
       "      <td>minigrillglasgow.co.uk</td>\n",
       "      <td>['haggis\\n23', 'burger\\n22', 'scallops\\n7', 'r...</td>\n",
       "      <td>55.865028</td>\n",
       "      <td>-4.265692</td>\n",
       "      <td></td>\n",
       "      <td></td>\n",
       "      <td></td>\n",
       "    </tr>\n",
       "    <tr>\n",
       "      <td>1</td>\n",
       "      <td>Meat Bar</td>\n",
       "      <td>4.6</td>\n",
       "      <td>(501)</td>\n",
       "      <td>Steak house</td>\n",
       "      <td>$$</td>\n",
       "      <td>142 W Regent St, Glasgow G2 2RQ, United Kingdom</td>\n",
       "      <td>+44 141 204 3605</td>\n",
       "      <td>themeatbar.co.uk</td>\n",
       "      <td>['burgers\\n41', 'cocktails\\n25', 'fries\\n17', ...</td>\n",
       "      <td>55.863674</td>\n",
       "      <td>-4.260043</td>\n",
       "      <td></td>\n",
       "      <td>25</td>\n",
       "      <td>8</td>\n",
       "    </tr>\n",
       "  </tbody>\n",
       "</table>\n",
       "</div>"
      ],
      "text/plain": [
       "                         full_name  rating total_ratings business_category  \\\n",
       "0  Mini Grill Steakhouse - Glasgow     4.7         (567)       Steak house   \n",
       "1                         Meat Bar     4.6         (501)       Steak house   \n",
       "\n",
       "  price_range                                          address  \\\n",
       "0          $$     244A Bath St, Glasgow G2 4JW, United Kingdom   \n",
       "1          $$  142 W Regent St, Glasgow G2 2RQ, United Kingdom   \n",
       "\n",
       "              phone                 website  \\\n",
       "0  +44 141 332 2732  minigrillglasgow.co.uk   \n",
       "1  +44 141 204 3605        themeatbar.co.uk   \n",
       "\n",
       "                                       review_topics   latitude  longitude  \\\n",
       "0  ['haggis\\n23', 'burger\\n22', 'scallops\\n7', 'r...  55.865028  -4.265692   \n",
       "1  ['burgers\\n41', 'cocktails\\n25', 'fries\\n17', ...  55.863674  -4.260043   \n",
       "\n",
       "  wine cocktail music  \n",
       "0                      \n",
       "1            25     8  "
      ]
     },
     "execution_count": 16,
     "metadata": {},
     "output_type": "execute_result"
    }
   ],
   "source": [
    "SBR.head(2)"
   ]
  },
  {
   "cell_type": "code",
   "execution_count": 296,
   "metadata": {},
   "outputs": [
    {
     "name": "stdout",
     "output_type": "stream",
     "text": [
      "<class 'pandas.core.frame.DataFrame'>\n",
      "Int64Index: 47 entries, 0 to 95\n",
      "Data columns (total 14 columns):\n",
      "full_name            47 non-null object\n",
      "rating               47 non-null float64\n",
      "total_ratings        47 non-null object\n",
      "business_category    47 non-null object\n",
      "price_range          35 non-null object\n",
      "address              47 non-null object\n",
      "phone                47 non-null object\n",
      "website              40 non-null object\n",
      "review_topics        47 non-null object\n",
      "latitude             47 non-null float64\n",
      "longitude            47 non-null float64\n",
      "wine                 47 non-null object\n",
      "cocktail             47 non-null object\n",
      "music                47 non-null object\n",
      "dtypes: float64(3), object(11)\n",
      "memory usage: 5.5+ KB\n"
     ]
    }
   ],
   "source": [
    "SBR.info()"
   ]
  },
  {
   "cell_type": "markdown",
   "metadata": {},
   "source": [
    "The 3 new columns are of type string as we can see above. Let's convert them to numeric values (but before that, let's substitute empty values with 0) :"
   ]
  },
  {
   "cell_type": "code",
   "execution_count": 17,
   "metadata": {},
   "outputs": [],
   "source": [
    "SBR.wine = SBR.wine.replace('', 0)\n",
    "SBR.cocktail = SBR.cocktail.replace('', 0)\n",
    "SBR.music = SBR.music.replace('', 0)"
   ]
  },
  {
   "cell_type": "markdown",
   "metadata": {},
   "source": [
    "Now let's convert them to numeric values :"
   ]
  },
  {
   "cell_type": "code",
   "execution_count": 18,
   "metadata": {},
   "outputs": [],
   "source": [
    "SBR.wine = SBR.wine.astype(int)\n",
    "SBR.cocktail = SBR.cocktail.astype(int)\n",
    "SBR.music = SBR.music.astype(int)"
   ]
  },
  {
   "cell_type": "code",
   "execution_count": 19,
   "metadata": {},
   "outputs": [
    {
     "name": "stdout",
     "output_type": "stream",
     "text": [
      "<class 'pandas.core.frame.DataFrame'>\n",
      "Int64Index: 47 entries, 0 to 95\n",
      "Data columns (total 14 columns):\n",
      "full_name            47 non-null object\n",
      "rating               47 non-null float64\n",
      "total_ratings        47 non-null object\n",
      "business_category    47 non-null object\n",
      "price_range          35 non-null object\n",
      "address              47 non-null object\n",
      "phone                47 non-null object\n",
      "website              40 non-null object\n",
      "review_topics        47 non-null object\n",
      "latitude             47 non-null float64\n",
      "longitude            47 non-null float64\n",
      "wine                 47 non-null int32\n",
      "cocktail             47 non-null int32\n",
      "music                47 non-null int32\n",
      "dtypes: float64(3), int32(3), object(8)\n",
      "memory usage: 5.0+ KB\n"
     ]
    }
   ],
   "source": [
    "SBR.info()"
   ]
  },
  {
   "cell_type": "code",
   "execution_count": 20,
   "metadata": {},
   "outputs": [
    {
     "data": {
      "text/html": [
       "<div>\n",
       "<style scoped>\n",
       "    .dataframe tbody tr th:only-of-type {\n",
       "        vertical-align: middle;\n",
       "    }\n",
       "\n",
       "    .dataframe tbody tr th {\n",
       "        vertical-align: top;\n",
       "    }\n",
       "\n",
       "    .dataframe thead th {\n",
       "        text-align: right;\n",
       "    }\n",
       "</style>\n",
       "<table border=\"1\" class=\"dataframe\">\n",
       "  <thead>\n",
       "    <tr style=\"text-align: right;\">\n",
       "      <th></th>\n",
       "      <th>full_name</th>\n",
       "      <th>rating</th>\n",
       "      <th>total_ratings</th>\n",
       "      <th>business_category</th>\n",
       "      <th>price_range</th>\n",
       "      <th>address</th>\n",
       "      <th>phone</th>\n",
       "      <th>website</th>\n",
       "      <th>review_topics</th>\n",
       "      <th>latitude</th>\n",
       "      <th>longitude</th>\n",
       "      <th>wine</th>\n",
       "      <th>cocktail</th>\n",
       "      <th>music</th>\n",
       "    </tr>\n",
       "  </thead>\n",
       "  <tbody>\n",
       "    <tr>\n",
       "      <td>0</td>\n",
       "      <td>Mini Grill Steakhouse - Glasgow</td>\n",
       "      <td>4.7</td>\n",
       "      <td>(567)</td>\n",
       "      <td>Steak house</td>\n",
       "      <td>$$</td>\n",
       "      <td>244A Bath St, Glasgow G2 4JW, United Kingdom</td>\n",
       "      <td>+44 141 332 2732</td>\n",
       "      <td>minigrillglasgow.co.uk</td>\n",
       "      <td>['haggis\\n23', 'burger\\n22', 'scallops\\n7', 'r...</td>\n",
       "      <td>55.865028</td>\n",
       "      <td>-4.265692</td>\n",
       "      <td>0</td>\n",
       "      <td>0</td>\n",
       "      <td>0</td>\n",
       "    </tr>\n",
       "    <tr>\n",
       "      <td>1</td>\n",
       "      <td>Meat Bar</td>\n",
       "      <td>4.6</td>\n",
       "      <td>(501)</td>\n",
       "      <td>Steak house</td>\n",
       "      <td>$$</td>\n",
       "      <td>142 W Regent St, Glasgow G2 2RQ, United Kingdom</td>\n",
       "      <td>+44 141 204 3605</td>\n",
       "      <td>themeatbar.co.uk</td>\n",
       "      <td>['burgers\\n41', 'cocktails\\n25', 'fries\\n17', ...</td>\n",
       "      <td>55.863674</td>\n",
       "      <td>-4.260043</td>\n",
       "      <td>0</td>\n",
       "      <td>25</td>\n",
       "      <td>8</td>\n",
       "    </tr>\n",
       "  </tbody>\n",
       "</table>\n",
       "</div>"
      ],
      "text/plain": [
       "                         full_name  rating total_ratings business_category  \\\n",
       "0  Mini Grill Steakhouse - Glasgow     4.7         (567)       Steak house   \n",
       "1                         Meat Bar     4.6         (501)       Steak house   \n",
       "\n",
       "  price_range                                          address  \\\n",
       "0          $$     244A Bath St, Glasgow G2 4JW, United Kingdom   \n",
       "1          $$  142 W Regent St, Glasgow G2 2RQ, United Kingdom   \n",
       "\n",
       "              phone                 website  \\\n",
       "0  +44 141 332 2732  minigrillglasgow.co.uk   \n",
       "1  +44 141 204 3605        themeatbar.co.uk   \n",
       "\n",
       "                                       review_topics   latitude  longitude  \\\n",
       "0  ['haggis\\n23', 'burger\\n22', 'scallops\\n7', 'r...  55.865028  -4.265692   \n",
       "1  ['burgers\\n41', 'cocktails\\n25', 'fries\\n17', ...  55.863674  -4.260043   \n",
       "\n",
       "   wine  cocktail  music  \n",
       "0     0         0      0  \n",
       "1     0        25      8  "
      ]
     },
     "execution_count": 20,
     "metadata": {},
     "output_type": "execute_result"
    }
   ],
   "source": [
    "SBR.head(2)"
   ]
  },
  {
   "cell_type": "markdown",
   "metadata": {},
   "source": [
    "Let's add a new column called `score` that is the total of the three new variables `wine`, `cocktail` and `music` :"
   ]
  },
  {
   "cell_type": "code",
   "execution_count": 21,
   "metadata": {},
   "outputs": [],
   "source": [
    "SBR['score'] = SBR.wine + SBR.cocktail + SBR.music"
   ]
  },
  {
   "cell_type": "markdown",
   "metadata": {},
   "source": [
    "Now let's sort the `SBR` dataframe by `score`, given that the establishment satisfies both these conditions :\n",
    "* at least one of `wine` and `cocktails` is not null\n",
    "* it does not have a null value for `music`"
   ]
  },
  {
   "cell_type": "code",
   "execution_count": 22,
   "metadata": {},
   "outputs": [
    {
     "data": {
      "text/html": [
       "<div>\n",
       "<style scoped>\n",
       "    .dataframe tbody tr th:only-of-type {\n",
       "        vertical-align: middle;\n",
       "    }\n",
       "\n",
       "    .dataframe tbody tr th {\n",
       "        vertical-align: top;\n",
       "    }\n",
       "\n",
       "    .dataframe thead th {\n",
       "        text-align: right;\n",
       "    }\n",
       "</style>\n",
       "<table border=\"1\" class=\"dataframe\">\n",
       "  <thead>\n",
       "    <tr style=\"text-align: right;\">\n",
       "      <th></th>\n",
       "      <th>full_name</th>\n",
       "      <th>rating</th>\n",
       "      <th>total_ratings</th>\n",
       "      <th>business_category</th>\n",
       "      <th>price_range</th>\n",
       "      <th>address</th>\n",
       "      <th>phone</th>\n",
       "      <th>website</th>\n",
       "      <th>review_topics</th>\n",
       "      <th>latitude</th>\n",
       "      <th>longitude</th>\n",
       "      <th>wine</th>\n",
       "      <th>cocktail</th>\n",
       "      <th>music</th>\n",
       "      <th>score</th>\n",
       "    </tr>\n",
       "  </thead>\n",
       "  <tbody>\n",
       "    <tr>\n",
       "      <td>1</td>\n",
       "      <td>Meat Bar</td>\n",
       "      <td>4.6</td>\n",
       "      <td>(501)</td>\n",
       "      <td>Steak house</td>\n",
       "      <td>$$</td>\n",
       "      <td>142 W Regent St, Glasgow G2 2RQ, United Kingdom</td>\n",
       "      <td>+44 141 204 3605</td>\n",
       "      <td>themeatbar.co.uk</td>\n",
       "      <td>['burgers\\n41', 'cocktails\\n25', 'fries\\n17', ...</td>\n",
       "      <td>55.863674</td>\n",
       "      <td>-4.260043</td>\n",
       "      <td>0</td>\n",
       "      <td>25</td>\n",
       "      <td>8</td>\n",
       "      <td>33</td>\n",
       "    </tr>\n",
       "    <tr>\n",
       "      <td>58</td>\n",
       "      <td>LIFE Glasgow</td>\n",
       "      <td>4.2</td>\n",
       "      <td>(414)</td>\n",
       "      <td>Bar &amp; grill</td>\n",
       "      <td>$$</td>\n",
       "      <td>396 Sauchiehall St, Glasgow G2 3JD, United Kin...</td>\n",
       "      <td>+44 141 237 1919</td>\n",
       "      <td>lifeglasgow.co.uk</td>\n",
       "      <td>['burger\\n18', 'cocktails\\n14', 'live music\\n8...</td>\n",
       "      <td>55.865848</td>\n",
       "      <td>-4.266058</td>\n",
       "      <td>0</td>\n",
       "      <td>14</td>\n",
       "      <td>8</td>\n",
       "      <td>22</td>\n",
       "    </tr>\n",
       "  </tbody>\n",
       "</table>\n",
       "</div>"
      ],
      "text/plain": [
       "       full_name  rating total_ratings business_category price_range  \\\n",
       "1       Meat Bar     4.6         (501)       Steak house          $$   \n",
       "58  LIFE Glasgow     4.2         (414)       Bar & grill          $$   \n",
       "\n",
       "                                              address             phone  \\\n",
       "1     142 W Regent St, Glasgow G2 2RQ, United Kingdom  +44 141 204 3605   \n",
       "58  396 Sauchiehall St, Glasgow G2 3JD, United Kin...  +44 141 237 1919   \n",
       "\n",
       "              website                                      review_topics  \\\n",
       "1    themeatbar.co.uk  ['burgers\\n41', 'cocktails\\n25', 'fries\\n17', ...   \n",
       "58  lifeglasgow.co.uk  ['burger\\n18', 'cocktails\\n14', 'live music\\n8...   \n",
       "\n",
       "     latitude  longitude  wine  cocktail  music  score  \n",
       "1   55.863674  -4.260043     0        25      8     33  \n",
       "58  55.865848  -4.266058     0        14      8     22  "
      ]
     },
     "execution_count": 22,
     "metadata": {},
     "output_type": "execute_result"
    }
   ],
   "source": [
    "SBR[((SBR.wine != 0)|(SBR.cocktail != 0)) & (SBR.music != 0)].sort_values(by='score', ascending=False)"
   ]
  },
  {
   "cell_type": "markdown",
   "metadata": {},
   "source": [
    "That narrows it to only 2 places! This should be good enough for Moira, but NO! She wants a way to visualise all the options in order to make a good choice. Alright Moira, as you wish!\n",
    "\n",
    "Let's get the variables `rating` (representing average appreciation), `total_ratings` (denoting popularity), and `price_range` (indicating how affordable a place is) into account, and map all of the establishments in `SBR` on a grid. \n",
    "\n",
    "But before that, we need to remove parentheses and commas from `total_ratings`, convert the series to numeric and change dollar signs in `price_range` into something more meaningful (dollar signs induce an error for some reason) :"
   ]
  },
  {
   "cell_type": "code",
   "execution_count": 316,
   "metadata": {},
   "outputs": [],
   "source": [
    "SBR.total_ratings = SBR.total_ratings.replace('(\\(|\\)|,)', '', regex=True)"
   ]
  },
  {
   "cell_type": "code",
   "execution_count": 318,
   "metadata": {},
   "outputs": [],
   "source": [
    "SBR.total_ratings = SBR.total_ratings.astype(int)"
   ]
  },
  {
   "cell_type": "code",
   "execution_count": 325,
   "metadata": {},
   "outputs": [],
   "source": [
    "SBR.price_range = SBR.price_range.replace({'$$':'Affordable', '$$$':'Pricy' })"
   ]
  },
  {
   "cell_type": "markdown",
   "metadata": {},
   "source": [
    "And now for the grid. We'll use a scatter plot with `total_ratings` on the X axis and `rating` on the Y axis. The colors will change according to the `price_range`. I also added annotations to show where the Steak house **'Mini Grill Steakhouse' (MG)** stands (recommended by the blog), and also the two places that got a good score, **'Meat Bar' (MB)** and **'LIFE Glasgow' (LG)** :"
   ]
  },
  {
   "cell_type": "code",
   "execution_count": 404,
   "metadata": {},
   "outputs": [
    {
     "data": {
      "image/png": "[encoded data removed]",
      "text/plain": [
       "<Figure size 806.4x576 with 1 Axes>"
      ]
     },
     "metadata": {
      "needs_background": "light"
     },
     "output_type": "display_data"
    }
   ],
   "source": [
    "sns.lmplot(data=SBR, x='total_ratings', y='rating', fit_reg=False, scatter_kws={'s':150,'alpha':0.5}, hue='price_range', height=8, aspect=1.4, legend=False)\n",
    "\n",
    "plt.text(SBR[SBR.full_name.str.contains('mini grill', case=False)].total_ratings, SBR[SBR.full_name.str.contains('mini grill', case=False)].rating, \"MG (score:0)\", horizontalalignment='left', size='medium', color='k', weight='semibold')\n",
    "plt.text(SBR[SBR.full_name.str.contains('meat bar', case=False)].total_ratings, SBR[SBR.full_name.str.contains('meat bar', case=False)].rating, \"MB (score:33)\", horizontalalignment='left', size='medium', color='k', weight='semibold')\n",
    "plt.text(SBR[SBR.full_name.str.contains('life glasgow', case=False)].total_ratings, SBR[SBR.full_name.str.contains('life glasgow', case=False)].rating, \"LG (score:22)\", horizontalalignment='left', size='medium', color='k', weight='semibold')\n",
    "\n",
    "plt.legend(loc=(0.84,0.1), prop={'size':14, 'weight':'semibold'}, frameon=False, labelspacing=0.4)\n",
    "plt.xlim((0,3000)), plt.ylim(3.25,5)\n",
    "plt.xlabel('Total ratings (popularity)', weight='semibold'), plt.ylabel('Ratings (average appreciation)', weight='semibold');"
   ]
  },
  {
   "cell_type": "markdown",
   "metadata": {},
   "source": [
    "Turns out, **'Mini Grill Steakhouse' (MG)**, the place recommended by the blog, did exceptionally well in regards to average ratings, but it scored poorly in what matters the most to Moira (drinks and music). **'Meat Bar' (MB)** on the other hand scored very well (33) and is only marginally lower than **MG** in terms of popularity and average ratings.\n",
    "\n",
    "Moira is now satisfied, her mind is made up. Let's hope it's not too late to call in and make a reservation!"
   ]
  },
  {
   "cell_type": "markdown",
   "metadata": {},
   "source": [
    "---"
   ]
  },
  {
   "cell_type": "markdown",
   "metadata": {},
   "source": [
    "# Historical landmarks in Rome, Italy :"
   ]
  },
  {
   "cell_type": "markdown",
   "metadata": {},
   "source": [
    "![Rome](https://i.ibb.co/ykQrx4N/rome.png)"
   ]
  },
  {
   "cell_type": "markdown",
   "metadata": {},
   "source": [
    "Photo by sbmeaper1 - Flickr.com (Public Domain)"
   ]
  },
  {
   "cell_type": "markdown",
   "metadata": {},
   "source": [
    "Antonio is a high school history teacher. He is planning a 3 days field trip to Rome, the capital of Italy, with a group of his students to see **the most popular historical landmarks** in it. However, knowing how packed Rome is with tourist this time of year, his main concern is to avoid long queues and big crowds while visiting certain locations, especially during **peak hours**. That's why we're going to help him schedule his visit to ensure a maximum level of comfort for his students. \n",
    "\n",
    "Same as always, we'll use our code to scrape useful information from Google Maps. This time, we'll add a new kind of info: **popular times** :"
   ]
  },
  {
   "cell_type": "markdown",
   "metadata": {},
   "source": [
    "![photo](https://i.ibb.co/Hdcx7xC/popular-times.png)"
   ]
  },
  {
   "cell_type": "markdown",
   "metadata": {},
   "source": [
    "Google Maps shows the graph above when you visit the **Pantheon**'s page (a big former Temple, now Church in Rome). According to Google Maps: **\"On the popular times graph, popularity for any given hour is shown relative to the typical peak popularity for the business for the week\"**. So visiting the Pantheon on Saturday at 4 PM would be a very bad idea because that's the busiest hour all week (hence 100% on the value for the attribute `aria-label`).\n",
    "\n",
    "In this case, we won't search around a particular place. We'll simply search Google Maps for **'rome tourist attraction'** (to be as broad as possible). Now let's run our code :"
   ]
  },
  {
   "cell_type": "code",
   "execution_count": 49,
   "metadata": {},
   "outputs": [
    {
     "data": {
      "application/vnd.jupyter.widget-view+json": {
       "model_id": "",
       "version_major": 2,
       "version_minor": 0
      },
      "text/plain": [
       "HBox(children=(IntProgress(value=0, description='1. Rounding the historical landmarks', max=2, style=ProgressS…"
      ]
     },
     "metadata": {},
     "output_type": "display_data"
    },
    {
     "name": "stdout",
     "output_type": "stream",
     "text": [
      "\r"
     ]
    },
    {
     "data": {
      "application/vnd.jupyter.widget-view+json": {
       "model_id": "",
       "version_major": 2,
       "version_minor": 0
      },
      "text/plain": [
       "HBox(children=(IntProgress(value=0, description='2. Extracting the data', max=40, style=ProgressStyle(descript…"
      ]
     },
     "metadata": {},
     "output_type": "display_data"
    },
    {
     "name": "stdout",
     "output_type": "stream",
     "text": [
      "\r"
     ]
    }
   ],
   "source": [
    "# Make sure to supply the path to where you put the chromedriver.exe file. Use \\\\ instead of \\ :\n",
    "driver = webdriver.Chrome(\"C:\\\\chromedriver.exe\")\n",
    "\n",
    "# This is the list where we'll capture the historical landmarks (names and addresses)\n",
    "landmarks = []\n",
    "\n",
    "# [STEP A] : The first search we'll do for 'rome touriste attraction'\n",
    "url = 'https://www.google.com/maps/search/rome touriste attraction'\n",
    "\n",
    "# [STEP A] : Opening the search URL. You'll notice a chrome window opening :\n",
    "driver.get(url)\n",
    "        \n",
    "# [STEP C] : We repeat the code below 3 times if we arrive at the end of the navgation list the loop breaks on its own) :\n",
    "for i in tqdmn(range(2), leave=False, desc='1. Rounding the historical landmarks' ) :\n",
    "    \n",
    "    # Waiting for the results to appear :\n",
    "    WebDriverWait(driver,25).until(EC.visibility_of_element_located((By.CLASS_NAME, \"section-result-title\")))\n",
    "\n",
    "    # Capturing the names of the competitors and adding it to our historical landmarks' :\n",
    "    result_names = [i.text for i in driver.find_elements_by_css_selector('h3[class=section-result-title]')]\n",
    "    result_addresses = [i.text for i in driver.find_elements_by_css_selector('span[class=section-result-location]')] \n",
    "    \n",
    "    for name, address in zip(result_names, result_addresses) :\n",
    "        landmarks.append(name + ' ' + address)\n",
    "        \n",
    "    # Waiting for the 'Next' button to be visible and then click it. If it's not there anymore, break the loop :\n",
    "    try :\n",
    "        WebDriverWait(driver,25).until(EC.visibility_of_element_located((By.XPATH, \"//*[@id='n7lv7yjyC35__section-pagination-button-next']\"))).click()\n",
    "    except ElementClickInterceptedException :\n",
    "        break\n",
    "        \n",
    "    # Waiting 5 seconds before looping (otherwise we get the error ElementClickInterceptedException). If you get the\n",
    "    #exception, make it wait for a little longer than 5 seconds :\n",
    "    time.sleep(5)\n",
    "\n",
    "# We want to remove any '/' character in the names and addresses in the landmarks list (because they'll break URLs) :\n",
    "landmarks = [i.replace('/', ' ') for i in landmarks]\n",
    "\n",
    "# These are the empty lists we will populate with the extracted data :\n",
    "full_name = []\n",
    "rating = []\n",
    "total_ratings = []\n",
    "landmark_cat = []\n",
    "description = []\n",
    "address = []\n",
    "hours = []\n",
    "lat = []\n",
    "long = []\n",
    "    \n",
    "# Here's the big loop iterating over the landmarks list :\n",
    "for landmark in tqdmn(landmarks, leave=False, desc='2. Extracting the data') :\n",
    "    \n",
    "    # [STEP D] :\n",
    "    url = 'https://www.google.com/maps/search/' + landmark\n",
    "    driver.get(url)\n",
    "\n",
    "    # Waiting for the name of the landmark to load and be visible. If it fails, skip to next one :\n",
    "    try :\n",
    "        WebDriverWait(driver,25).until(EC.visibility_of_element_located((By.CLASS_NAME, \"section-hero-header-title-title\")))\n",
    "    except (NoSuchElementException, TimeoutException) as e :\n",
    "        continue\n",
    "        \n",
    "    # [STEP E] : Extracting the data and putting it into the empty lists we defined earlier :\n",
    "    try:\n",
    "        full_name.append(driver.find_element_by_xpath('//*[@id=\"pane\"]/div/div[1]/div/div/div[2]/div[1]/div[1]').text)\n",
    "    except NoSuchElementException :\n",
    "        full_name.append(np.nan)\n",
    "\n",
    "    try:\n",
    "        rating.append(driver.find_element_by_xpath('//*[@id=\"pane\"]/div/div[1]/div/div/div[2]/div[1]/div[2]/div/div[1]/span[1]/span/span').text)\n",
    "    except NoSuchElementException :\n",
    "        rating.append(np.nan)\n",
    "\n",
    "    try:\n",
    "        total_ratings.append(driver.find_element_by_xpath('//*[@id=\"pane\"]/div/div[1]/div/div/div[2]/div[1]/div[2]/div/div[1]/span[2]/span/span[1]/span[2]/span[1]/button').text)\n",
    "    except NoSuchElementException:\n",
    "        total_ratings.append(np.nan)\n",
    "\n",
    "    try:\n",
    "        landmark_cat.append(driver.find_element_by_xpath('//*[@id=\"pane\"]/div/div[1]/div/div/div[2]/div[1]/div[2]/div/div[2]/span[1]/span[1]/button').text)\n",
    "    except NoSuchElementException:\n",
    "        landmark_cat.append(np.nan)\n",
    "    \n",
    "    try:\n",
    "        description.append(driver.find_element_by_css_selector('div[class=section-editorial-quote]').text)\n",
    "    except NoSuchElementException:\n",
    "        description.append(np.nan\n",
    "                          )\n",
    "    try:\n",
    "        address.append(driver.find_element_by_css_selector('div[data-tooltip=\"Copy address\"]').text)\n",
    "    except NoSuchElementException :\n",
    "        address.append(np.nan)\n",
    "\n",
    "    # Here we capture the popular hours for all 7 days starting with Sunday :\n",
    "    try:\n",
    "        hours.append([i.get_attribute('aria-label') for i in driver.find_elements_by_xpath(\"//*[contains(@aria-label, 'busy at')]\")])\n",
    "    except NoSuchElementException:\n",
    "        hours.append(np.nan)\n",
    "        \n",
    "    try:\n",
    "        coordinates = driver.find_element_by_css_selector('meta[itemprop=image]').get_attribute('content')\n",
    "        coordinates = coordinates.split('?center=')[1].split('&zoom=')[0].split('%2C')\n",
    "        lat.append(coordinates[0])\n",
    "        long.append(coordinates[1])\n",
    "    except NoSuchElementException:\n",
    "        lat.append(np.nan)\n",
    "        long.append(np.nan)\n",
    "\n",
    "# Closing the Chrome window\n",
    "driver.close()"
   ]
  },
  {
   "cell_type": "markdown",
   "metadata": {},
   "source": [
    "Once done, let's make a dataframe out of the lists with extracted. We'll call it `HL` for Historical landmarks :"
   ]
  },
  {
   "cell_type": "code",
   "execution_count": 50,
   "metadata": {},
   "outputs": [],
   "source": [
    "HL = pd.DataFrame(data={'full_name':full_name, 'rating':rating, 'total_ratings':total_ratings, \n",
    "                        'landmark_category':landmark_cat, 'description':description, 'address':address, 'hours':hours})"
   ]
  },
  {
   "cell_type": "code",
   "execution_count": 51,
   "metadata": {},
   "outputs": [
    {
     "data": {
      "text/html": [
       "<div>\n",
       "<style scoped>\n",
       "    .dataframe tbody tr th:only-of-type {\n",
       "        vertical-align: middle;\n",
       "    }\n",
       "\n",
       "    .dataframe tbody tr th {\n",
       "        vertical-align: top;\n",
       "    }\n",
       "\n",
       "    .dataframe thead th {\n",
       "        text-align: right;\n",
       "    }\n",
       "</style>\n",
       "<table border=\"1\" class=\"dataframe\">\n",
       "  <thead>\n",
       "    <tr style=\"text-align: right;\">\n",
       "      <th></th>\n",
       "      <th>full_name</th>\n",
       "      <th>rating</th>\n",
       "      <th>total_ratings</th>\n",
       "      <th>landmark_category</th>\n",
       "      <th>description</th>\n",
       "      <th>address</th>\n",
       "      <th>hours</th>\n",
       "    </tr>\n",
       "  </thead>\n",
       "  <tbody>\n",
       "    <tr>\n",
       "      <td>0</td>\n",
       "      <td>Piazza Navona</td>\n",
       "      <td>4.7</td>\n",
       "      <td>(110,654)</td>\n",
       "      <td>Plaza</td>\n",
       "      <td>Elegant square dating from the 1st century A.D...</td>\n",
       "      <td>Piazza Navona, 00186 Roma RM, Italy</td>\n",
       "      <td>[]</td>\n",
       "    </tr>\n",
       "    <tr>\n",
       "      <td>1</td>\n",
       "      <td>Roman Forum</td>\n",
       "      <td>4.7</td>\n",
       "      <td>(102,401)</td>\n",
       "      <td>Historical place</td>\n",
       "      <td>Vast excavated area of Roman temples, squares ...</td>\n",
       "      <td>Via della Salara Vecchia, 5/6, 00186 Roma RM, ...</td>\n",
       "      <td>[0% busy at 6 AM., 0% busy at 7 AM., 5% busy a...</td>\n",
       "    </tr>\n",
       "    <tr>\n",
       "      <td>2</td>\n",
       "      <td>Fontana del Pantheon</td>\n",
       "      <td>4.6</td>\n",
       "      <td>(496)</td>\n",
       "      <td>Fountain</td>\n",
       "      <td>16th-century fountain commissioned by Pope Gre...</td>\n",
       "      <td>Piazza della Rotonda, 00186 Roma RM, Italy</td>\n",
       "      <td>[]</td>\n",
       "    </tr>\n",
       "    <tr>\n",
       "      <td>3</td>\n",
       "      <td>Spanish Steps</td>\n",
       "      <td>4.5</td>\n",
       "      <td>(43,257)</td>\n",
       "      <td>Monument</td>\n",
       "      <td>Steps with irregular butterfly-shaped design, ...</td>\n",
       "      <td>Piazza di Spagna, 00187 Roma RM, Italy</td>\n",
       "      <td>[]</td>\n",
       "    </tr>\n",
       "    <tr>\n",
       "      <td>4</td>\n",
       "      <td>Trevi Fountain</td>\n",
       "      <td>4.7</td>\n",
       "      <td>(253,195)</td>\n",
       "      <td>Fountain</td>\n",
       "      <td>Aqueduct-fed rococo fountain, designed by Nico...</td>\n",
       "      <td>Piazza di Trevi, 00187 Roma RM, Italy</td>\n",
       "      <td>[]</td>\n",
       "    </tr>\n",
       "  </tbody>\n",
       "</table>\n",
       "</div>"
      ],
      "text/plain": [
       "              full_name rating total_ratings landmark_category  \\\n",
       "0         Piazza Navona    4.7     (110,654)             Plaza   \n",
       "1           Roman Forum    4.7     (102,401)  Historical place   \n",
       "2  Fontana del Pantheon    4.6         (496)          Fountain   \n",
       "3         Spanish Steps    4.5      (43,257)          Monument   \n",
       "4        Trevi Fountain    4.7     (253,195)          Fountain   \n",
       "\n",
       "                                         description  \\\n",
       "0  Elegant square dating from the 1st century A.D...   \n",
       "1  Vast excavated area of Roman temples, squares ...   \n",
       "2  16th-century fountain commissioned by Pope Gre...   \n",
       "3  Steps with irregular butterfly-shaped design, ...   \n",
       "4  Aqueduct-fed rococo fountain, designed by Nico...   \n",
       "\n",
       "                                             address  \\\n",
       "0                Piazza Navona, 00186 Roma RM, Italy   \n",
       "1  Via della Salara Vecchia, 5/6, 00186 Roma RM, ...   \n",
       "2         Piazza della Rotonda, 00186 Roma RM, Italy   \n",
       "3             Piazza di Spagna, 00187 Roma RM, Italy   \n",
       "4              Piazza di Trevi, 00187 Roma RM, Italy   \n",
       "\n",
       "                                               hours  \n",
       "0                                                 []  \n",
       "1  [0% busy at 6 AM., 0% busy at 7 AM., 5% busy a...  \n",
       "2                                                 []  \n",
       "3                                                 []  \n",
       "4                                                 []  "
      ]
     },
     "execution_count": 51,
     "metadata": {},
     "output_type": "execute_result"
    }
   ],
   "source": [
    "HL.head()"
   ]
  },
  {
   "cell_type": "code",
   "execution_count": 52,
   "metadata": {},
   "outputs": [
    {
     "data": {
      "text/plain": [
       "(40, 7)"
      ]
     },
     "execution_count": 52,
     "metadata": {},
     "output_type": "execute_result"
    }
   ],
   "source": [
    "HL.shape"
   ]
  },
  {
   "cell_type": "markdown",
   "metadata": {},
   "source": [
    "As always, let's save/open this dataframe on our machine for later use :"
   ]
  },
  {
   "cell_type": "code",
   "execution_count": 53,
   "metadata": {},
   "outputs": [],
   "source": [
    "HL.to_csv('historical_landmarks.csv', index=False)"
   ]
  },
  {
   "cell_type": "code",
   "execution_count": 46,
   "metadata": {},
   "outputs": [],
   "source": [
    "HL = pd.read_csv('historical_landmarks.csv')"
   ]
  },
  {
   "cell_type": "markdown",
   "metadata": {},
   "source": [
    "If you remember, Antonio wants the group to only visit the most popular attractions because the trip only lasts for 3 days. To select the 10 most popular historical landmarks from `HL`, we need to convert `total_ratings` into a numerical vector :"
   ]
  },
  {
   "cell_type": "code",
   "execution_count": 54,
   "metadata": {},
   "outputs": [],
   "source": [
    "HL.total_ratings = HL.total_ratings.replace('\\(|\\)|,', '', regex=True)"
   ]
  },
  {
   "cell_type": "code",
   "execution_count": 55,
   "metadata": {},
   "outputs": [],
   "source": [
    "HL.total_ratings = HL.total_ratings.astype(float)"
   ]
  },
  {
   "cell_type": "markdown",
   "metadata": {},
   "source": [
    "Let's make a new dataframe `HL10` containing the top most popular cites from `HL` :"
   ]
  },
  {
   "cell_type": "code",
   "execution_count": 56,
   "metadata": {
    "scrolled": false
   },
   "outputs": [
    {
     "data": {
      "text/html": [
       "<div>\n",
       "<style scoped>\n",
       "    .dataframe tbody tr th:only-of-type {\n",
       "        vertical-align: middle;\n",
       "    }\n",
       "\n",
       "    .dataframe tbody tr th {\n",
       "        vertical-align: top;\n",
       "    }\n",
       "\n",
       "    .dataframe thead th {\n",
       "        text-align: right;\n",
       "    }\n",
       "</style>\n",
       "<table border=\"1\" class=\"dataframe\">\n",
       "  <thead>\n",
       "    <tr style=\"text-align: right;\">\n",
       "      <th></th>\n",
       "      <th>full_name</th>\n",
       "      <th>rating</th>\n",
       "      <th>total_ratings</th>\n",
       "      <th>landmark_category</th>\n",
       "      <th>description</th>\n",
       "      <th>address</th>\n",
       "      <th>hours</th>\n",
       "    </tr>\n",
       "  </thead>\n",
       "  <tbody>\n",
       "    <tr>\n",
       "      <td>4</td>\n",
       "      <td>Trevi Fountain</td>\n",
       "      <td>4.7</td>\n",
       "      <td>253195.0</td>\n",
       "      <td>Fountain</td>\n",
       "      <td>Aqueduct-fed rococo fountain, designed by Nico...</td>\n",
       "      <td>Piazza di Trevi, 00187 Roma RM, Italy</td>\n",
       "      <td>[]</td>\n",
       "    </tr>\n",
       "    <tr>\n",
       "      <td>9</td>\n",
       "      <td>Colosseum</td>\n",
       "      <td>4.7</td>\n",
       "      <td>241400.0</td>\n",
       "      <td>Historical landmark</td>\n",
       "      <td>Monumental 3-tiered Roman amphitheater once us...</td>\n",
       "      <td>Piazza del Colosseo, 1, 00184 Roma RM, Italy</td>\n",
       "      <td>[0% busy at 6 AM., 0% busy at 7 AM., 19% busy ...</td>\n",
       "    </tr>\n",
       "    <tr>\n",
       "      <td>17</td>\n",
       "      <td>St. Peter's Basilica</td>\n",
       "      <td>4.8</td>\n",
       "      <td>114156.0</td>\n",
       "      <td>Basilica</td>\n",
       "      <td>Late Renaissance church by architects includin...</td>\n",
       "      <td>Piazza San Pietro, 00120 Città del Vaticano, V...</td>\n",
       "      <td>[]</td>\n",
       "    </tr>\n",
       "    <tr>\n",
       "      <td>20</td>\n",
       "      <td>Piazza Navona</td>\n",
       "      <td>4.7</td>\n",
       "      <td>110700.0</td>\n",
       "      <td>Plaza</td>\n",
       "      <td>Elegant square dating from the 1st century A.D...</td>\n",
       "      <td>Piazza Navona, 00186 Roma RM, Italy</td>\n",
       "      <td>[]</td>\n",
       "    </tr>\n",
       "    <tr>\n",
       "      <td>0</td>\n",
       "      <td>Piazza Navona</td>\n",
       "      <td>4.7</td>\n",
       "      <td>110654.0</td>\n",
       "      <td>Plaza</td>\n",
       "      <td>Elegant square dating from the 1st century A.D...</td>\n",
       "      <td>Piazza Navona, 00186 Roma RM, Italy</td>\n",
       "      <td>[]</td>\n",
       "    </tr>\n",
       "    <tr>\n",
       "      <td>25</td>\n",
       "      <td>Vatican Museums</td>\n",
       "      <td>4.6</td>\n",
       "      <td>103047.0</td>\n",
       "      <td>Art museum</td>\n",
       "      <td>Multiple galleries of classical &amp; Renaissance ...</td>\n",
       "      <td>00120 Vatican City</td>\n",
       "      <td>[% busy at ., 0% busy at 6 AM., 0% busy at 7 A...</td>\n",
       "    </tr>\n",
       "    <tr>\n",
       "      <td>1</td>\n",
       "      <td>Roman Forum</td>\n",
       "      <td>4.7</td>\n",
       "      <td>102401.0</td>\n",
       "      <td>Historical place</td>\n",
       "      <td>Vast excavated area of Roman temples, squares ...</td>\n",
       "      <td>Via della Salara Vecchia, 5/6, 00186 Roma RM, ...</td>\n",
       "      <td>[0% busy at 6 AM., 0% busy at 7 AM., 5% busy a...</td>\n",
       "    </tr>\n",
       "    <tr>\n",
       "      <td>14</td>\n",
       "      <td>Piazza del Popolo</td>\n",
       "      <td>4.6</td>\n",
       "      <td>62701.0</td>\n",
       "      <td>Plaza</td>\n",
       "      <td>Grand, landmark square centered by Rome's olde...</td>\n",
       "      <td>Piazza del Popolo, 00187 Roma RM, Italy</td>\n",
       "      <td>[0% busy at 6 AM., 0% busy at 7 AM., 0% busy a...</td>\n",
       "    </tr>\n",
       "    <tr>\n",
       "      <td>12</td>\n",
       "      <td>Castel Sant'Angelo</td>\n",
       "      <td>4.7</td>\n",
       "      <td>50648.0</td>\n",
       "      <td>Castle</td>\n",
       "      <td>Circular, 2nd-century castle housing furniture...</td>\n",
       "      <td>Lungotevere Castello, 50, 00193 Roma RM, Italy...</td>\n",
       "      <td>[0% busy at 6 AM., 0% busy at 7 AM., 0% busy a...</td>\n",
       "    </tr>\n",
       "    <tr>\n",
       "      <td>16</td>\n",
       "      <td>Villa Borghese</td>\n",
       "      <td>4.6</td>\n",
       "      <td>48061.0</td>\n",
       "      <td>Park</td>\n",
       "      <td>Lavish villa designed by Ponzio &amp; Vasanzio, wi...</td>\n",
       "      <td>Piazzale Napoleone I, 00197 Roma RM, Italy</td>\n",
       "      <td>[15% busy at 4 AM., 11% busy at 5 AM., 0% busy...</td>\n",
       "    </tr>\n",
       "  </tbody>\n",
       "</table>\n",
       "</div>"
      ],
      "text/plain": [
       "               full_name rating  total_ratings    landmark_category  \\\n",
       "4         Trevi Fountain    4.7       253195.0             Fountain   \n",
       "9              Colosseum    4.7       241400.0  Historical landmark   \n",
       "17  St. Peter's Basilica    4.8       114156.0             Basilica   \n",
       "20         Piazza Navona    4.7       110700.0                Plaza   \n",
       "0          Piazza Navona    4.7       110654.0                Plaza   \n",
       "25       Vatican Museums    4.6       103047.0           Art museum   \n",
       "1            Roman Forum    4.7       102401.0     Historical place   \n",
       "14     Piazza del Popolo    4.6        62701.0                Plaza   \n",
       "12    Castel Sant'Angelo    4.7        50648.0               Castle   \n",
       "16        Villa Borghese    4.6        48061.0                 Park   \n",
       "\n",
       "                                          description  \\\n",
       "4   Aqueduct-fed rococo fountain, designed by Nico...   \n",
       "9   Monumental 3-tiered Roman amphitheater once us...   \n",
       "17  Late Renaissance church by architects includin...   \n",
       "20  Elegant square dating from the 1st century A.D...   \n",
       "0   Elegant square dating from the 1st century A.D...   \n",
       "25  Multiple galleries of classical & Renaissance ...   \n",
       "1   Vast excavated area of Roman temples, squares ...   \n",
       "14  Grand, landmark square centered by Rome's olde...   \n",
       "12  Circular, 2nd-century castle housing furniture...   \n",
       "16  Lavish villa designed by Ponzio & Vasanzio, wi...   \n",
       "\n",
       "                                              address  \\\n",
       "4               Piazza di Trevi, 00187 Roma RM, Italy   \n",
       "9        Piazza del Colosseo, 1, 00184 Roma RM, Italy   \n",
       "17  Piazza San Pietro, 00120 Città del Vaticano, V...   \n",
       "20                Piazza Navona, 00186 Roma RM, Italy   \n",
       "0                 Piazza Navona, 00186 Roma RM, Italy   \n",
       "25                                 00120 Vatican City   \n",
       "1   Via della Salara Vecchia, 5/6, 00186 Roma RM, ...   \n",
       "14            Piazza del Popolo, 00187 Roma RM, Italy   \n",
       "12  Lungotevere Castello, 50, 00193 Roma RM, Italy...   \n",
       "16         Piazzale Napoleone I, 00197 Roma RM, Italy   \n",
       "\n",
       "                                                hours  \n",
       "4                                                  []  \n",
       "9   [0% busy at 6 AM., 0% busy at 7 AM., 19% busy ...  \n",
       "17                                                 []  \n",
       "20                                                 []  \n",
       "0                                                  []  \n",
       "25  [% busy at ., 0% busy at 6 AM., 0% busy at 7 A...  \n",
       "1   [0% busy at 6 AM., 0% busy at 7 AM., 5% busy a...  \n",
       "14  [0% busy at 6 AM., 0% busy at 7 AM., 0% busy a...  \n",
       "12  [0% busy at 6 AM., 0% busy at 7 AM., 0% busy a...  \n",
       "16  [15% busy at 4 AM., 11% busy at 5 AM., 0% busy...  "
      ]
     },
     "execution_count": 56,
     "metadata": {},
     "output_type": "execute_result"
    }
   ],
   "source": [
    "HL10 = HL.sort_values(by='total_ratings', ascending=False).head(10).copy()\n",
    "HL10"
   ]
  },
  {
   "cell_type": "markdown",
   "metadata": {},
   "source": [
    "Our main concern here is to avoid peak hours when visiting these popular destinations. Let's see how the variable `hours` looks like for the Colosseum for example :"
   ]
  },
  {
   "cell_type": "code",
   "execution_count": 62,
   "metadata": {},
   "outputs": [
    {
     "data": {
      "text/plain": [
       "\"[['0% busy at 6 AM.', '0% busy at 7 AM.', '19% busy at 8 AM.', '48% busy at 9 AM.', '81% busy at 10 AM.', '100% busy at 11 AM.', '95% busy at 12 PM.', '82% busy at 1 PM.', '70% busy at 2 PM.', '59% busy at 3 PM.', '43% busy at 4 PM.', '27% busy at 5 PM.', '16% busy at 6 PM.', '0% busy at 7 PM.', '0% busy at 8 PM.', '0% busy at 9 PM.', '0% busy at 10 PM.', '0% busy at 11 PM.', '0% busy at 6 AM.', '0% busy at 7 AM.', '13% busy at 8 AM.', '32% busy at 9 AM.', '54% busy at 10 AM.', '68% busy at 11 AM.', '67% busy at 12 PM.', '60% busy at 1 PM.', '53% busy at 2 PM.', '43% busy at 3 PM.', '30% busy at 4 PM.', '18% busy at 5 PM.', '10% busy at 6 PM.', '0% busy at 7 PM.', '0% busy at 8 PM.', '0% busy at 9 PM.', '0% busy at 10 PM.', '0% busy at 11 PM.', '0% busy at 6 AM.', '0% busy at 7 AM.', '14% busy at 8 AM.', '33% busy at 9 AM.', '54% busy at 10 AM.', '67% busy at 11 AM.', '68% busy at 12 PM.', '61% busy at 1 PM.', '52% busy at 2 PM.', '42% busy at 3 PM.', '30% busy at 4 PM.', '18% busy at 5 PM.', '10% busy at 6 PM.', '0% busy at 7 PM.', '0% busy at 8 PM.', '0% busy at 9 PM.', '0% busy at 10 PM.', '0% busy at 11 PM.', '0% busy at 6 AM.', '0% busy at 7 AM.', '12% busy at 8 AM.', '26% busy at 9 AM.', '42% busy at 10 AM.', '53% busy at 11 AM.', '55% busy at 12 PM.', '48% busy at 1 PM.', '41% busy at 2 PM.', '34% busy at 3 PM.', '28% busy at 4 PM.', '22% busy at 5 PM.', '15% busy at 6 PM.', '0% busy at 7 PM.', '0% busy at 8 PM.', '0% busy at 9 PM.', '0% busy at 10 PM.', '0% busy at 11 PM.', '0% busy at 6 AM.', '0% busy at 7 AM.', '12% busy at 8 AM.', '31% busy at 9 AM.', '53% busy at 10 AM.', '67% busy at 11 AM.', '68% busy at 12 PM.', '61% busy at 1 PM.', '54% busy at 2 PM.', '44% busy at 3 PM.', '33% busy at 4 PM.', '21% busy at 5 PM.', '13% busy at 6 PM.', '0% busy at 7 PM.', '0% busy at 8 PM.', '0% busy at 9 PM.', '0% busy at 10 PM.', '0% busy at 11 PM.', '0% busy at 6 AM.', '0% busy at 7 AM.', '13% busy at 8 AM.', '33% busy at 9 AM.', '58% busy at 10 AM.', '72% busy at 11 AM.', '73% busy at 12 PM.', '67% busy at 1 PM.', '60% busy at 2 PM.', '49% busy at 3 PM.', '35% busy at 4 PM.', '22% busy at 5 PM.', '13% busy at 6 PM.', '0% busy at 7 PM.', '0% busy at 8 PM.', '0% busy at 9 PM.', '0% busy at 10 PM.', '0% busy at 11 PM.', '0% busy at 6 AM.', '0% busy at 7 AM.', '18% busy at 8 AM.', '43% busy at 9 AM.', '73% busy at 10 AM.', '94% busy at 11 AM.', '94% busy at 12 PM.', '81% busy at 1 PM.', '68% busy at 2 PM.', '57% busy at 3 PM.', '44% busy at 4 PM.', '30% busy at 5 PM.', '18% busy at 6 PM.', '0% busy at 7 PM.', '0% busy at 8 PM.', '0% busy at 9 PM.', '0% busy at 10 PM.', '0% busy at 11 PM.']]\""
      ]
     },
     "execution_count": 62,
     "metadata": {},
     "output_type": "execute_result"
    }
   ],
   "source": [
    "str(list(HL10[HL10.full_name == 'Colosseum'].hours))"
   ]
  },
  {
   "cell_type": "markdown",
   "metadata": {},
   "source": [
    "In our top `HL10` dataframe, `hours` is a list describing how busy any hour is (from 6 AM to 11 PM) for 7 days (from Sunday to Saturday in that order). To make analysis easier, we'll create a new empty dataframe for each one of the 8 places in `HL10` with days as index and hours as columns. To do so, we'll use this custom function :"
   ]
  },
  {
   "cell_type": "code",
   "execution_count": 57,
   "metadata": {},
   "outputs": [],
   "source": [
    "def visit_planner(place_name) :\n",
    "\n",
    "    # first we make an empty dataframe out of a list of days as index and a list of hours as columns :\n",
    "    place_name = pd.DataFrame(index=['Sunday', 'Monday', 'Tuesday', 'Wednesday', 'Thursday', 'Friday', 'Saturday'], \\\n",
    "                              columns=['6 AM', '7 AM', '8 AM', '9 AM', '10 AM', '11 AM', '12 PM', '1 PM', '2 PM','3 PM',\n",
    "                                       '4 PM', '5 PM', '6 PM', '7 PM', '8 PM', '9 PM', '10 PM', '11 PM'])    \n",
    "    \n",
    "    # and then we return that dataframe\n",
    "    return place_name"
   ]
  },
  {
   "cell_type": "markdown",
   "metadata": {},
   "source": [
    "Let's test it with the **Colosseum** :"
   ]
  },
  {
   "cell_type": "code",
   "execution_count": 58,
   "metadata": {},
   "outputs": [
    {
     "data": {
      "text/html": [
       "<div>\n",
       "<style scoped>\n",
       "    .dataframe tbody tr th:only-of-type {\n",
       "        vertical-align: middle;\n",
       "    }\n",
       "\n",
       "    .dataframe tbody tr th {\n",
       "        vertical-align: top;\n",
       "    }\n",
       "\n",
       "    .dataframe thead th {\n",
       "        text-align: right;\n",
       "    }\n",
       "</style>\n",
       "<table border=\"1\" class=\"dataframe\">\n",
       "  <thead>\n",
       "    <tr style=\"text-align: right;\">\n",
       "      <th></th>\n",
       "      <th>6 AM</th>\n",
       "      <th>7 AM</th>\n",
       "      <th>8 AM</th>\n",
       "      <th>9 AM</th>\n",
       "      <th>10 AM</th>\n",
       "      <th>11 AM</th>\n",
       "      <th>12 PM</th>\n",
       "      <th>1 PM</th>\n",
       "      <th>2 PM</th>\n",
       "      <th>3 PM</th>\n",
       "      <th>4 PM</th>\n",
       "      <th>5 PM</th>\n",
       "      <th>6 PM</th>\n",
       "      <th>7 PM</th>\n",
       "      <th>8 PM</th>\n",
       "      <th>9 PM</th>\n",
       "      <th>10 PM</th>\n",
       "      <th>11 PM</th>\n",
       "    </tr>\n",
       "  </thead>\n",
       "  <tbody>\n",
       "    <tr>\n",
       "      <td>Sunday</td>\n",
       "      <td>NaN</td>\n",
       "      <td>NaN</td>\n",
       "      <td>NaN</td>\n",
       "      <td>NaN</td>\n",
       "      <td>NaN</td>\n",
       "      <td>NaN</td>\n",
       "      <td>NaN</td>\n",
       "      <td>NaN</td>\n",
       "      <td>NaN</td>\n",
       "      <td>NaN</td>\n",
       "      <td>NaN</td>\n",
       "      <td>NaN</td>\n",
       "      <td>NaN</td>\n",
       "      <td>NaN</td>\n",
       "      <td>NaN</td>\n",
       "      <td>NaN</td>\n",
       "      <td>NaN</td>\n",
       "      <td>NaN</td>\n",
       "    </tr>\n",
       "    <tr>\n",
       "      <td>Monday</td>\n",
       "      <td>NaN</td>\n",
       "      <td>NaN</td>\n",
       "      <td>NaN</td>\n",
       "      <td>NaN</td>\n",
       "      <td>NaN</td>\n",
       "      <td>NaN</td>\n",
       "      <td>NaN</td>\n",
       "      <td>NaN</td>\n",
       "      <td>NaN</td>\n",
       "      <td>NaN</td>\n",
       "      <td>NaN</td>\n",
       "      <td>NaN</td>\n",
       "      <td>NaN</td>\n",
       "      <td>NaN</td>\n",
       "      <td>NaN</td>\n",
       "      <td>NaN</td>\n",
       "      <td>NaN</td>\n",
       "      <td>NaN</td>\n",
       "    </tr>\n",
       "    <tr>\n",
       "      <td>Tuesday</td>\n",
       "      <td>NaN</td>\n",
       "      <td>NaN</td>\n",
       "      <td>NaN</td>\n",
       "      <td>NaN</td>\n",
       "      <td>NaN</td>\n",
       "      <td>NaN</td>\n",
       "      <td>NaN</td>\n",
       "      <td>NaN</td>\n",
       "      <td>NaN</td>\n",
       "      <td>NaN</td>\n",
       "      <td>NaN</td>\n",
       "      <td>NaN</td>\n",
       "      <td>NaN</td>\n",
       "      <td>NaN</td>\n",
       "      <td>NaN</td>\n",
       "      <td>NaN</td>\n",
       "      <td>NaN</td>\n",
       "      <td>NaN</td>\n",
       "    </tr>\n",
       "    <tr>\n",
       "      <td>Wednesday</td>\n",
       "      <td>NaN</td>\n",
       "      <td>NaN</td>\n",
       "      <td>NaN</td>\n",
       "      <td>NaN</td>\n",
       "      <td>NaN</td>\n",
       "      <td>NaN</td>\n",
       "      <td>NaN</td>\n",
       "      <td>NaN</td>\n",
       "      <td>NaN</td>\n",
       "      <td>NaN</td>\n",
       "      <td>NaN</td>\n",
       "      <td>NaN</td>\n",
       "      <td>NaN</td>\n",
       "      <td>NaN</td>\n",
       "      <td>NaN</td>\n",
       "      <td>NaN</td>\n",
       "      <td>NaN</td>\n",
       "      <td>NaN</td>\n",
       "    </tr>\n",
       "    <tr>\n",
       "      <td>Thursday</td>\n",
       "      <td>NaN</td>\n",
       "      <td>NaN</td>\n",
       "      <td>NaN</td>\n",
       "      <td>NaN</td>\n",
       "      <td>NaN</td>\n",
       "      <td>NaN</td>\n",
       "      <td>NaN</td>\n",
       "      <td>NaN</td>\n",
       "      <td>NaN</td>\n",
       "      <td>NaN</td>\n",
       "      <td>NaN</td>\n",
       "      <td>NaN</td>\n",
       "      <td>NaN</td>\n",
       "      <td>NaN</td>\n",
       "      <td>NaN</td>\n",
       "      <td>NaN</td>\n",
       "      <td>NaN</td>\n",
       "      <td>NaN</td>\n",
       "    </tr>\n",
       "    <tr>\n",
       "      <td>Friday</td>\n",
       "      <td>NaN</td>\n",
       "      <td>NaN</td>\n",
       "      <td>NaN</td>\n",
       "      <td>NaN</td>\n",
       "      <td>NaN</td>\n",
       "      <td>NaN</td>\n",
       "      <td>NaN</td>\n",
       "      <td>NaN</td>\n",
       "      <td>NaN</td>\n",
       "      <td>NaN</td>\n",
       "      <td>NaN</td>\n",
       "      <td>NaN</td>\n",
       "      <td>NaN</td>\n",
       "      <td>NaN</td>\n",
       "      <td>NaN</td>\n",
       "      <td>NaN</td>\n",
       "      <td>NaN</td>\n",
       "      <td>NaN</td>\n",
       "    </tr>\n",
       "    <tr>\n",
       "      <td>Saturday</td>\n",
       "      <td>NaN</td>\n",
       "      <td>NaN</td>\n",
       "      <td>NaN</td>\n",
       "      <td>NaN</td>\n",
       "      <td>NaN</td>\n",
       "      <td>NaN</td>\n",
       "      <td>NaN</td>\n",
       "      <td>NaN</td>\n",
       "      <td>NaN</td>\n",
       "      <td>NaN</td>\n",
       "      <td>NaN</td>\n",
       "      <td>NaN</td>\n",
       "      <td>NaN</td>\n",
       "      <td>NaN</td>\n",
       "      <td>NaN</td>\n",
       "      <td>NaN</td>\n",
       "      <td>NaN</td>\n",
       "      <td>NaN</td>\n",
       "    </tr>\n",
       "  </tbody>\n",
       "</table>\n",
       "</div>"
      ],
      "text/plain": [
       "          6 AM 7 AM 8 AM 9 AM 10 AM 11 AM 12 PM 1 PM 2 PM 3 PM 4 PM 5 PM 6 PM  \\\n",
       "Sunday     NaN  NaN  NaN  NaN   NaN   NaN   NaN  NaN  NaN  NaN  NaN  NaN  NaN   \n",
       "Monday     NaN  NaN  NaN  NaN   NaN   NaN   NaN  NaN  NaN  NaN  NaN  NaN  NaN   \n",
       "Tuesday    NaN  NaN  NaN  NaN   NaN   NaN   NaN  NaN  NaN  NaN  NaN  NaN  NaN   \n",
       "Wednesday  NaN  NaN  NaN  NaN   NaN   NaN   NaN  NaN  NaN  NaN  NaN  NaN  NaN   \n",
       "Thursday   NaN  NaN  NaN  NaN   NaN   NaN   NaN  NaN  NaN  NaN  NaN  NaN  NaN   \n",
       "Friday     NaN  NaN  NaN  NaN   NaN   NaN   NaN  NaN  NaN  NaN  NaN  NaN  NaN   \n",
       "Saturday   NaN  NaN  NaN  NaN   NaN   NaN   NaN  NaN  NaN  NaN  NaN  NaN  NaN   \n",
       "\n",
       "          7 PM 8 PM 9 PM 10 PM 11 PM  \n",
       "Sunday     NaN  NaN  NaN   NaN   NaN  \n",
       "Monday     NaN  NaN  NaN   NaN   NaN  \n",
       "Tuesday    NaN  NaN  NaN   NaN   NaN  \n",
       "Wednesday  NaN  NaN  NaN   NaN   NaN  \n",
       "Thursday   NaN  NaN  NaN   NaN   NaN  \n",
       "Friday     NaN  NaN  NaN   NaN   NaN  \n",
       "Saturday   NaN  NaN  NaN   NaN   NaN  "
      ]
     },
     "execution_count": 58,
     "metadata": {},
     "output_type": "execute_result"
    }
   ],
   "source": [
    "colosseum = visit_planner('Colosseum')\n",
    "colosseum"
   ]
  },
  {
   "cell_type": "markdown",
   "metadata": {},
   "source": [
    "Now let's populate the `10 AM` column with the values that correspond to it. We'll use RegEx here: first we capture the string `***% busy at 10 AM`, then we capture the numbers in it using `\\d+`, and since we have 2 numbers here (the percentage and 10), we select the first one using the indexing `[0]`. Finally we convert the vector to integer :"
   ]
  },
  {
   "cell_type": "code",
   "execution_count": 59,
   "metadata": {},
   "outputs": [],
   "source": [
    "colosseum['10 AM'] = re.findall('...%.{0,20} 10 AM', str(list(HL10[HL10.full_name=='Colosseum'].hours)))\n",
    "colosseum['10 AM'] = [ re.findall('\\d+', str(i))[0] for i in colosseum['10 AM'] ]\n",
    "colosseum['10 AM'] = colosseum['10 AM'].astype(int)"
   ]
  },
  {
   "cell_type": "code",
   "execution_count": 60,
   "metadata": {},
   "outputs": [
    {
     "data": {
      "text/html": [
       "<div>\n",
       "<style scoped>\n",
       "    .dataframe tbody tr th:only-of-type {\n",
       "        vertical-align: middle;\n",
       "    }\n",
       "\n",
       "    .dataframe tbody tr th {\n",
       "        vertical-align: top;\n",
       "    }\n",
       "\n",
       "    .dataframe thead th {\n",
       "        text-align: right;\n",
       "    }\n",
       "</style>\n",
       "<table border=\"1\" class=\"dataframe\">\n",
       "  <thead>\n",
       "    <tr style=\"text-align: right;\">\n",
       "      <th></th>\n",
       "      <th>6 AM</th>\n",
       "      <th>7 AM</th>\n",
       "      <th>8 AM</th>\n",
       "      <th>9 AM</th>\n",
       "      <th>10 AM</th>\n",
       "      <th>11 AM</th>\n",
       "      <th>12 PM</th>\n",
       "      <th>1 PM</th>\n",
       "      <th>2 PM</th>\n",
       "      <th>3 PM</th>\n",
       "      <th>4 PM</th>\n",
       "      <th>5 PM</th>\n",
       "      <th>6 PM</th>\n",
       "      <th>7 PM</th>\n",
       "      <th>8 PM</th>\n",
       "      <th>9 PM</th>\n",
       "      <th>10 PM</th>\n",
       "      <th>11 PM</th>\n",
       "    </tr>\n",
       "  </thead>\n",
       "  <tbody>\n",
       "    <tr>\n",
       "      <td>Sunday</td>\n",
       "      <td>NaN</td>\n",
       "      <td>NaN</td>\n",
       "      <td>NaN</td>\n",
       "      <td>NaN</td>\n",
       "      <td>81</td>\n",
       "      <td>NaN</td>\n",
       "      <td>NaN</td>\n",
       "      <td>NaN</td>\n",
       "      <td>NaN</td>\n",
       "      <td>NaN</td>\n",
       "      <td>NaN</td>\n",
       "      <td>NaN</td>\n",
       "      <td>NaN</td>\n",
       "      <td>NaN</td>\n",
       "      <td>NaN</td>\n",
       "      <td>NaN</td>\n",
       "      <td>NaN</td>\n",
       "      <td>NaN</td>\n",
       "    </tr>\n",
       "    <tr>\n",
       "      <td>Monday</td>\n",
       "      <td>NaN</td>\n",
       "      <td>NaN</td>\n",
       "      <td>NaN</td>\n",
       "      <td>NaN</td>\n",
       "      <td>54</td>\n",
       "      <td>NaN</td>\n",
       "      <td>NaN</td>\n",
       "      <td>NaN</td>\n",
       "      <td>NaN</td>\n",
       "      <td>NaN</td>\n",
       "      <td>NaN</td>\n",
       "      <td>NaN</td>\n",
       "      <td>NaN</td>\n",
       "      <td>NaN</td>\n",
       "      <td>NaN</td>\n",
       "      <td>NaN</td>\n",
       "      <td>NaN</td>\n",
       "      <td>NaN</td>\n",
       "    </tr>\n",
       "    <tr>\n",
       "      <td>Tuesday</td>\n",
       "      <td>NaN</td>\n",
       "      <td>NaN</td>\n",
       "      <td>NaN</td>\n",
       "      <td>NaN</td>\n",
       "      <td>54</td>\n",
       "      <td>NaN</td>\n",
       "      <td>NaN</td>\n",
       "      <td>NaN</td>\n",
       "      <td>NaN</td>\n",
       "      <td>NaN</td>\n",
       "      <td>NaN</td>\n",
       "      <td>NaN</td>\n",
       "      <td>NaN</td>\n",
       "      <td>NaN</td>\n",
       "      <td>NaN</td>\n",
       "      <td>NaN</td>\n",
       "      <td>NaN</td>\n",
       "      <td>NaN</td>\n",
       "    </tr>\n",
       "    <tr>\n",
       "      <td>Wednesday</td>\n",
       "      <td>NaN</td>\n",
       "      <td>NaN</td>\n",
       "      <td>NaN</td>\n",
       "      <td>NaN</td>\n",
       "      <td>42</td>\n",
       "      <td>NaN</td>\n",
       "      <td>NaN</td>\n",
       "      <td>NaN</td>\n",
       "      <td>NaN</td>\n",
       "      <td>NaN</td>\n",
       "      <td>NaN</td>\n",
       "      <td>NaN</td>\n",
       "      <td>NaN</td>\n",
       "      <td>NaN</td>\n",
       "      <td>NaN</td>\n",
       "      <td>NaN</td>\n",
       "      <td>NaN</td>\n",
       "      <td>NaN</td>\n",
       "    </tr>\n",
       "    <tr>\n",
       "      <td>Thursday</td>\n",
       "      <td>NaN</td>\n",
       "      <td>NaN</td>\n",
       "      <td>NaN</td>\n",
       "      <td>NaN</td>\n",
       "      <td>53</td>\n",
       "      <td>NaN</td>\n",
       "      <td>NaN</td>\n",
       "      <td>NaN</td>\n",
       "      <td>NaN</td>\n",
       "      <td>NaN</td>\n",
       "      <td>NaN</td>\n",
       "      <td>NaN</td>\n",
       "      <td>NaN</td>\n",
       "      <td>NaN</td>\n",
       "      <td>NaN</td>\n",
       "      <td>NaN</td>\n",
       "      <td>NaN</td>\n",
       "      <td>NaN</td>\n",
       "    </tr>\n",
       "    <tr>\n",
       "      <td>Friday</td>\n",
       "      <td>NaN</td>\n",
       "      <td>NaN</td>\n",
       "      <td>NaN</td>\n",
       "      <td>NaN</td>\n",
       "      <td>58</td>\n",
       "      <td>NaN</td>\n",
       "      <td>NaN</td>\n",
       "      <td>NaN</td>\n",
       "      <td>NaN</td>\n",
       "      <td>NaN</td>\n",
       "      <td>NaN</td>\n",
       "      <td>NaN</td>\n",
       "      <td>NaN</td>\n",
       "      <td>NaN</td>\n",
       "      <td>NaN</td>\n",
       "      <td>NaN</td>\n",
       "      <td>NaN</td>\n",
       "      <td>NaN</td>\n",
       "    </tr>\n",
       "    <tr>\n",
       "      <td>Saturday</td>\n",
       "      <td>NaN</td>\n",
       "      <td>NaN</td>\n",
       "      <td>NaN</td>\n",
       "      <td>NaN</td>\n",
       "      <td>73</td>\n",
       "      <td>NaN</td>\n",
       "      <td>NaN</td>\n",
       "      <td>NaN</td>\n",
       "      <td>NaN</td>\n",
       "      <td>NaN</td>\n",
       "      <td>NaN</td>\n",
       "      <td>NaN</td>\n",
       "      <td>NaN</td>\n",
       "      <td>NaN</td>\n",
       "      <td>NaN</td>\n",
       "      <td>NaN</td>\n",
       "      <td>NaN</td>\n",
       "      <td>NaN</td>\n",
       "    </tr>\n",
       "  </tbody>\n",
       "</table>\n",
       "</div>"
      ],
      "text/plain": [
       "          6 AM 7 AM 8 AM 9 AM  10 AM 11 AM 12 PM 1 PM 2 PM 3 PM 4 PM 5 PM  \\\n",
       "Sunday     NaN  NaN  NaN  NaN     81   NaN   NaN  NaN  NaN  NaN  NaN  NaN   \n",
       "Monday     NaN  NaN  NaN  NaN     54   NaN   NaN  NaN  NaN  NaN  NaN  NaN   \n",
       "Tuesday    NaN  NaN  NaN  NaN     54   NaN   NaN  NaN  NaN  NaN  NaN  NaN   \n",
       "Wednesday  NaN  NaN  NaN  NaN     42   NaN   NaN  NaN  NaN  NaN  NaN  NaN   \n",
       "Thursday   NaN  NaN  NaN  NaN     53   NaN   NaN  NaN  NaN  NaN  NaN  NaN   \n",
       "Friday     NaN  NaN  NaN  NaN     58   NaN   NaN  NaN  NaN  NaN  NaN  NaN   \n",
       "Saturday   NaN  NaN  NaN  NaN     73   NaN   NaN  NaN  NaN  NaN  NaN  NaN   \n",
       "\n",
       "          6 PM 7 PM 8 PM 9 PM 10 PM 11 PM  \n",
       "Sunday     NaN  NaN  NaN  NaN   NaN   NaN  \n",
       "Monday     NaN  NaN  NaN  NaN   NaN   NaN  \n",
       "Tuesday    NaN  NaN  NaN  NaN   NaN   NaN  \n",
       "Wednesday  NaN  NaN  NaN  NaN   NaN   NaN  \n",
       "Thursday   NaN  NaN  NaN  NaN   NaN   NaN  \n",
       "Friday     NaN  NaN  NaN  NaN   NaN   NaN  \n",
       "Saturday   NaN  NaN  NaN  NaN   NaN   NaN  "
      ]
     },
     "execution_count": 60,
     "metadata": {},
     "output_type": "execute_result"
    }
   ],
   "source": [
    "colosseum"
   ]
  },
  {
   "cell_type": "markdown",
   "metadata": {},
   "source": [
    "It worked! Let's apply the same code to all hours in a loop :"
   ]
  },
  {
   "cell_type": "code",
   "execution_count": 63,
   "metadata": {},
   "outputs": [],
   "source": [
    "for hour in list(colosseum):\n",
    "    colosseum[hour] = re.findall('...%.{0,20} '+str(hour), str(list(HL10[HL10.full_name=='Colosseum'].hours)))\n",
    "    colosseum[hour] = [ re.findall('\\d+', str(i))[0] for i in colosseum[hour] ]\n",
    "    colosseum[hour] = colosseum[hour].astype(int)"
   ]
  },
  {
   "cell_type": "code",
   "execution_count": 64,
   "metadata": {},
   "outputs": [
    {
     "data": {
      "text/html": [
       "<div>\n",
       "<style scoped>\n",
       "    .dataframe tbody tr th:only-of-type {\n",
       "        vertical-align: middle;\n",
       "    }\n",
       "\n",
       "    .dataframe tbody tr th {\n",
       "        vertical-align: top;\n",
       "    }\n",
       "\n",
       "    .dataframe thead th {\n",
       "        text-align: right;\n",
       "    }\n",
       "</style>\n",
       "<table border=\"1\" class=\"dataframe\">\n",
       "  <thead>\n",
       "    <tr style=\"text-align: right;\">\n",
       "      <th></th>\n",
       "      <th>6 AM</th>\n",
       "      <th>7 AM</th>\n",
       "      <th>8 AM</th>\n",
       "      <th>9 AM</th>\n",
       "      <th>10 AM</th>\n",
       "      <th>11 AM</th>\n",
       "      <th>12 PM</th>\n",
       "      <th>1 PM</th>\n",
       "      <th>2 PM</th>\n",
       "      <th>3 PM</th>\n",
       "      <th>4 PM</th>\n",
       "      <th>5 PM</th>\n",
       "      <th>6 PM</th>\n",
       "      <th>7 PM</th>\n",
       "      <th>8 PM</th>\n",
       "      <th>9 PM</th>\n",
       "      <th>10 PM</th>\n",
       "      <th>11 PM</th>\n",
       "    </tr>\n",
       "  </thead>\n",
       "  <tbody>\n",
       "    <tr>\n",
       "      <td>Sunday</td>\n",
       "      <td>0</td>\n",
       "      <td>0</td>\n",
       "      <td>19</td>\n",
       "      <td>48</td>\n",
       "      <td>81</td>\n",
       "      <td>100</td>\n",
       "      <td>95</td>\n",
       "      <td>82</td>\n",
       "      <td>70</td>\n",
       "      <td>59</td>\n",
       "      <td>43</td>\n",
       "      <td>27</td>\n",
       "      <td>16</td>\n",
       "      <td>0</td>\n",
       "      <td>0</td>\n",
       "      <td>0</td>\n",
       "      <td>0</td>\n",
       "      <td>0</td>\n",
       "    </tr>\n",
       "    <tr>\n",
       "      <td>Monday</td>\n",
       "      <td>0</td>\n",
       "      <td>0</td>\n",
       "      <td>13</td>\n",
       "      <td>32</td>\n",
       "      <td>54</td>\n",
       "      <td>68</td>\n",
       "      <td>67</td>\n",
       "      <td>60</td>\n",
       "      <td>53</td>\n",
       "      <td>43</td>\n",
       "      <td>30</td>\n",
       "      <td>18</td>\n",
       "      <td>10</td>\n",
       "      <td>0</td>\n",
       "      <td>0</td>\n",
       "      <td>0</td>\n",
       "      <td>0</td>\n",
       "      <td>0</td>\n",
       "    </tr>\n",
       "    <tr>\n",
       "      <td>Tuesday</td>\n",
       "      <td>0</td>\n",
       "      <td>0</td>\n",
       "      <td>14</td>\n",
       "      <td>33</td>\n",
       "      <td>54</td>\n",
       "      <td>67</td>\n",
       "      <td>68</td>\n",
       "      <td>61</td>\n",
       "      <td>52</td>\n",
       "      <td>42</td>\n",
       "      <td>30</td>\n",
       "      <td>18</td>\n",
       "      <td>10</td>\n",
       "      <td>0</td>\n",
       "      <td>0</td>\n",
       "      <td>0</td>\n",
       "      <td>0</td>\n",
       "      <td>0</td>\n",
       "    </tr>\n",
       "    <tr>\n",
       "      <td>Wednesday</td>\n",
       "      <td>0</td>\n",
       "      <td>0</td>\n",
       "      <td>12</td>\n",
       "      <td>26</td>\n",
       "      <td>42</td>\n",
       "      <td>53</td>\n",
       "      <td>55</td>\n",
       "      <td>48</td>\n",
       "      <td>41</td>\n",
       "      <td>34</td>\n",
       "      <td>28</td>\n",
       "      <td>22</td>\n",
       "      <td>15</td>\n",
       "      <td>0</td>\n",
       "      <td>0</td>\n",
       "      <td>0</td>\n",
       "      <td>0</td>\n",
       "      <td>0</td>\n",
       "    </tr>\n",
       "    <tr>\n",
       "      <td>Thursday</td>\n",
       "      <td>0</td>\n",
       "      <td>0</td>\n",
       "      <td>12</td>\n",
       "      <td>31</td>\n",
       "      <td>53</td>\n",
       "      <td>67</td>\n",
       "      <td>68</td>\n",
       "      <td>61</td>\n",
       "      <td>54</td>\n",
       "      <td>44</td>\n",
       "      <td>33</td>\n",
       "      <td>21</td>\n",
       "      <td>13</td>\n",
       "      <td>0</td>\n",
       "      <td>0</td>\n",
       "      <td>0</td>\n",
       "      <td>0</td>\n",
       "      <td>0</td>\n",
       "    </tr>\n",
       "    <tr>\n",
       "      <td>Friday</td>\n",
       "      <td>0</td>\n",
       "      <td>0</td>\n",
       "      <td>13</td>\n",
       "      <td>33</td>\n",
       "      <td>58</td>\n",
       "      <td>72</td>\n",
       "      <td>73</td>\n",
       "      <td>67</td>\n",
       "      <td>60</td>\n",
       "      <td>49</td>\n",
       "      <td>35</td>\n",
       "      <td>22</td>\n",
       "      <td>13</td>\n",
       "      <td>0</td>\n",
       "      <td>0</td>\n",
       "      <td>0</td>\n",
       "      <td>0</td>\n",
       "      <td>0</td>\n",
       "    </tr>\n",
       "    <tr>\n",
       "      <td>Saturday</td>\n",
       "      <td>0</td>\n",
       "      <td>0</td>\n",
       "      <td>18</td>\n",
       "      <td>43</td>\n",
       "      <td>73</td>\n",
       "      <td>94</td>\n",
       "      <td>94</td>\n",
       "      <td>81</td>\n",
       "      <td>68</td>\n",
       "      <td>57</td>\n",
       "      <td>44</td>\n",
       "      <td>30</td>\n",
       "      <td>18</td>\n",
       "      <td>0</td>\n",
       "      <td>0</td>\n",
       "      <td>0</td>\n",
       "      <td>0</td>\n",
       "      <td>0</td>\n",
       "    </tr>\n",
       "  </tbody>\n",
       "</table>\n",
       "</div>"
      ],
      "text/plain": [
       "           6 AM  7 AM  8 AM  9 AM  10 AM  11 AM  12 PM  1 PM  2 PM  3 PM  \\\n",
       "Sunday        0     0    19    48     81    100     95    82    70    59   \n",
       "Monday        0     0    13    32     54     68     67    60    53    43   \n",
       "Tuesday       0     0    14    33     54     67     68    61    52    42   \n",
       "Wednesday     0     0    12    26     42     53     55    48    41    34   \n",
       "Thursday      0     0    12    31     53     67     68    61    54    44   \n",
       "Friday        0     0    13    33     58     72     73    67    60    49   \n",
       "Saturday      0     0    18    43     73     94     94    81    68    57   \n",
       "\n",
       "           4 PM  5 PM  6 PM  7 PM  8 PM  9 PM  10 PM  11 PM  \n",
       "Sunday       43    27    16     0     0     0      0      0  \n",
       "Monday       30    18    10     0     0     0      0      0  \n",
       "Tuesday      30    18    10     0     0     0      0      0  \n",
       "Wednesday    28    22    15     0     0     0      0      0  \n",
       "Thursday     33    21    13     0     0     0      0      0  \n",
       "Friday       35    22    13     0     0     0      0      0  \n",
       "Saturday     44    30    18     0     0     0      0      0  "
      ]
     },
     "execution_count": 64,
     "metadata": {},
     "output_type": "execute_result"
    }
   ],
   "source": [
    "colosseum"
   ]
  },
  {
   "cell_type": "markdown",
   "metadata": {},
   "source": [
    "And now let's visualise this data on a heatmap :"
   ]
  },
  {
   "cell_type": "code",
   "execution_count": 65,
   "metadata": {},
   "outputs": [
    {
     "data": {
      "image/png": "[encoded data removed]",
      "text/plain": [
       "<Figure size 1080x504 with 1 Axes>"
      ]
     },
     "metadata": {
      "needs_background": "light"
     },
     "output_type": "display_data"
    }
   ],
   "source": [
    "plt.figure(figsize=(15,7))\n",
    "sns.heatmap(colosseum, cmap='PuBu', linewidths=0.8, annot=True, annot_kws={'fontsize':8, 'alpha':0.8}, fmt='d', square=True,\n",
    "           cbar=False)\n",
    "\n",
    "plt.xticks(np.arange(18), list(colosseum))\n",
    "plt.title('Popular times visiting the Colosseum (in %)\\n', weight='semibold')\n",
    "\n",
    "# this bit of code ensures the heatmap will not show up truncated with some versions of matplotlib\n",
    "b, t = plt.ylim()\n",
    "b += 0.5\n",
    "t -= 0.5\n",
    "plt.ylim(b, t);"
   ]
  },
  {
   "cell_type": "markdown",
   "metadata": {},
   "source": [
    "If we consider that a rate of around **50%** is comfortable enough for the group (which is half as populous as the busiest hour in the week), and that we need **at least 2 hours** to fully visit a place, the best days and times to visit the Colosseum are :\n",
    "* **Wednesdays** any hour of the day\n",
    "* **Mondays**, **Tuesdays** and **Thursdays** from **8AM to 11AM** and from **2PM to 7PM**\n",
    "* **Fridays** and **weekends** but only from **4PM to 6PM**\n",
    "* Avoid **Weekends**, especially from **11AM to 2PM**"
   ]
  },
  {
   "cell_type": "markdown",
   "metadata": {},
   "source": [
    "Let's try the same thing with another place, the **Vatican Museums**. In this case, things are a little bit different because **the place closes on Sundays** and the method we used for the two previews places will not work unless we drop the Sunday row out of the dataframe :"
   ]
  },
  {
   "cell_type": "code",
   "execution_count": 66,
   "metadata": {},
   "outputs": [
    {
     "data": {
      "image/png": "[encoded data removed]",
      "text/plain": [
       "<Figure size 1080x504 with 1 Axes>"
      ]
     },
     "metadata": {
      "needs_background": "light"
     },
     "output_type": "display_data"
    }
   ],
   "source": [
    "vatican = visit_planner(\"Vatican Museums\")\n",
    "\n",
    "# we need to remove the row for Sunday before proceeding\n",
    "vatican.drop('Sunday', axis=0, inplace=True)\n",
    "\n",
    "for hour in list(vatican):\n",
    "    vatican[hour] = re.findall('...%.{0,20} '+str(hour), str(list(HL10[HL10.full_name==\"Vatican Museums\"].hours)))\n",
    "    vatican[hour] = [ re.findall('\\d+', str(i))[0] for i in vatican[hour] ]\n",
    "    vatican[hour] = vatican[hour].astype(int)\n",
    "\n",
    "plt.figure(figsize=(15,7))\n",
    "sns.heatmap(vatican, cmap='PuBu', linewidths=0.8, annot=True, annot_kws={'fontsize':8, 'alpha':0.8}, fmt='d', square=True,\n",
    "           cbar=False)\n",
    "\n",
    "plt.xticks(np.arange(18), list(colosseum))\n",
    "plt.title(\"Popular times visiting the Vatican Museums\\n\", weight='semibold')\n",
    "\n",
    "# this bit of code ensures the heatmap will not show up truncated with some versions of matplotlib\n",
    "b, t = plt.ylim()\n",
    "b += 0.5\n",
    "t -= 0.5\n",
    "plt.ylim(b, t);"
   ]
  },
  {
   "cell_type": "markdown",
   "metadata": {},
   "source": [
    "Now this is a tough one to schedule because we only have a 7 hour window for visits from 9AM to 4PM. So, the best days and times to visit the Vatican Museums are :\n",
    "\n",
    "* **Wednesdays** all day\n",
    "* **Tuesdays** from **2PM to 4PM** and **Thursdays** from **9AM to 11AM** and from **2PM to 4PM**\n",
    "* **Mondays**, **Fridays** and **Saturdays** are to be avoided"
   ]
  },
  {
   "cell_type": "markdown",
   "metadata": {},
   "source": [
    "Antonio is happy with this newly acquired info. It will help him plan the visit to make the most out of the three days he'll spend with his students in one of the most historically significant cities in Europe."
   ]
  },
  {
   "cell_type": "markdown",
   "metadata": {},
   "source": [
    "NB: If you want to try to make a heatmap for a place and you get the errorLength of values does notmatch length of index, make sure the hours list of that place has all the hours from 6 AM to 11 PM (18 in total, repeating 7 times, which makes 126 elements in total). If one or more are missing, try to run the web scraping code again."
   ]
  }
 ],
 "metadata": {
  "kernelspec": {
   "display_name": "Python 3",
   "language": "python",
   "name": "python3"
  },
  "language_info": {
   "codemirror_mode": {
    "name": "ipython",
    "version": 3
   },
   "file_extension": ".py",
   "mimetype": "text/x-python",
   "name": "python",
   "nbconvert_exporter": "python",
   "pygments_lexer": "ipython3",
   "version": "3.7.4"
  }
 },
 "nbformat": 4,
 "nbformat_minor": 2
}
